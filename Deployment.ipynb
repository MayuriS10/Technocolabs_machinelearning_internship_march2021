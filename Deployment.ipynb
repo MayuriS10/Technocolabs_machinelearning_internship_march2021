{
  "nbformat": 4,
  "nbformat_minor": 0,
  "metadata": {
    "colab": {
      "name": "Deployment.ipynb",
      "provenance": []
    },
    "kernelspec": {
      "name": "python3",
      "display_name": "Python 3"
    },
    "language_info": {
      "name": "python"
    }
  },
  "cells": [
    {
      "cell_type": "code",
      "metadata": {
        "colab": {
          "base_uri": "https://localhost:8080/"
        },
        "id": "8Ot4iyb6W1Mm",
        "outputId": "c6ca2a53-caa5-477f-9056-ccdf42591bcd"
      },
      "source": [
        "! pip install praw"
      ],
      "execution_count": 5,
      "outputs": [
        {
          "output_type": "stream",
          "text": [
            "Collecting praw\n",
            "\u001b[?25l  Downloading https://files.pythonhosted.org/packages/48/a8/a2e2d0750ee17c7e3d81e4695a0338ad0b3f231853b8c3fa339ff2d25c7c/praw-7.2.0-py3-none-any.whl (159kB)\n",
            "\u001b[K     |████████████████████████████████| 163kB 9.8MB/s \n",
            "\u001b[?25hCollecting update-checker>=0.18\n",
            "  Downloading https://files.pythonhosted.org/packages/0c/ba/8dd7fa5f0b1c6a8ac62f8f57f7e794160c1f86f31c6d0fb00f582372a3e4/update_checker-0.18.0-py3-none-any.whl\n",
            "Collecting websocket-client>=0.54.0\n",
            "\u001b[?25l  Downloading https://files.pythonhosted.org/packages/08/33/80e0d4f60e84a1ddd9a03f340be1065a2a363c47ce65c4bd3bae65ce9631/websocket_client-0.58.0-py2.py3-none-any.whl (61kB)\n",
            "\u001b[K     |████████████████████████████████| 61kB 7.2MB/s \n",
            "\u001b[?25hCollecting prawcore<3,>=2\n",
            "  Downloading https://files.pythonhosted.org/packages/7d/df/4a9106bea0d26689c4b309da20c926a01440ddaf60c09a5ae22684ebd35f/prawcore-2.0.0-py3-none-any.whl\n",
            "Requirement already satisfied: requests>=2.3.0 in /usr/local/lib/python3.7/dist-packages (from update-checker>=0.18->praw) (2.23.0)\n",
            "Requirement already satisfied: six in /usr/local/lib/python3.7/dist-packages (from websocket-client>=0.54.0->praw) (1.15.0)\n",
            "Requirement already satisfied: urllib3!=1.25.0,!=1.25.1,<1.26,>=1.21.1 in /usr/local/lib/python3.7/dist-packages (from requests>=2.3.0->update-checker>=0.18->praw) (1.24.3)\n",
            "Requirement already satisfied: idna<3,>=2.5 in /usr/local/lib/python3.7/dist-packages (from requests>=2.3.0->update-checker>=0.18->praw) (2.10)\n",
            "Requirement already satisfied: certifi>=2017.4.17 in /usr/local/lib/python3.7/dist-packages (from requests>=2.3.0->update-checker>=0.18->praw) (2020.12.5)\n",
            "Requirement already satisfied: chardet<4,>=3.0.2 in /usr/local/lib/python3.7/dist-packages (from requests>=2.3.0->update-checker>=0.18->praw) (3.0.4)\n",
            "Installing collected packages: update-checker, websocket-client, prawcore, praw\n",
            "Successfully installed praw-7.2.0 prawcore-2.0.0 update-checker-0.18.0 websocket-client-0.58.0\n"
          ],
          "name": "stdout"
        }
      ]
    },
    {
      "cell_type": "code",
      "metadata": {
        "colab": {
          "base_uri": "https://localhost:8080/"
        },
        "id": "4-GF1mHSWVXq",
        "outputId": "cdae82e2-611e-42a0-e781-5130ddfcee2b"
      },
      "source": [
        "from flask import Flask, render_template\n",
        "import flask\n",
        "import pickle\n",
        "import re\n",
        "from sklearn.feature_extraction.text import ENGLISH_STOP_WORDS\n",
        "import pandas as pd\n",
        "import numpy as np\n",
        "import praw\n",
        "from textblob import TextBlob\n",
        "import sys\n",
        "import xgboost\n",
        "\n",
        "app = Flask(__name__)\n",
        "def Subjectivity(text):\n",
        "    return TextBlob(text).sentiment.subjectivity\n",
        "def Polarity(text):\n",
        "    return TextBlob(text).sentiment.polarity\n",
        "def word_count(text):\n",
        "    wordList = re.sub(\"[^\\w]\", \" \", text).split()\n",
        "    return len(wordList)\n",
        "def clean_message(text):\n",
        "    text = re.sub(r'[^\\w\\s]', '', text)\n",
        "    l_text = \" \".join(word for word in text.lower().split() if word not in ENGLISH_STOP_WORDS)\n",
        "    return l_text\n",
        "      \n",
        "# for model Prediction\n",
        "xgb_b=xgboost.Booster()\n",
        "xgb_b.load_model('XGBoostRegressor.booster')\n",
        "\n",
        "\n",
        "# To get information for the Reddit url\n",
        "def extract_data(url):\n",
        "    data = {}\n",
        "    reddit = praw.Reddit(client_id='WUTH6H3Cx7KW4w',\n",
        "                         client_secret='hBOWXZ37WOOY9M9oT-SD-2H7ql_7HQ',\n",
        "                         user_agent='user_agent')\n",
        "    sub_data = reddit.submission(url=str(url))\n",
        "    data['body'] = [str(sub_data.title)]\n",
        "    data['downs'] = sub_data.downs\n",
        "    data['upvote_ratio']=sub_data.upvote_ratio\n",
        "    data['gilded'] = [sub_data.gilded]\n",
        "    data['word_count'] = word_count(sub_data.title)\n",
        "    data['over_18'] = [sub_data.over_18]\n",
        "    data['number_of_Comments'] = [sub_data.num_comments]\n",
        "    data['Subjectivity'] = Subjectivity(sub_data.title)\n",
        "    data['Polarity'] = Polarity(sub_data.title)\n",
        "    scores = senti.polarity_scores(sub_data.title)\n",
        "    data['Compound'] = scores['compound']\n",
        "    data['neg'] = scores['neg']\n",
        "    data['neu'] = scores['neu']\n",
        "    data['pos'] = scores['pos']\n",
        "    df = pd.DataFrame(data)\n",
        "        \n",
        "    return df\n",
        "\n",
        "@app.route('/')\n",
        "def home():\n",
        "    return render_template('Index.html')"
      ],
      "execution_count": 8,
      "outputs": [
        {
          "output_type": "stream",
          "text": [
            "[16:44:18] WARNING: /workspace/src/objective/regression_obj.cu:152: reg:linear is now deprecated in favor of reg:squarederror.\n"
          ],
          "name": "stdout"
        }
      ]
    }
  ]
}