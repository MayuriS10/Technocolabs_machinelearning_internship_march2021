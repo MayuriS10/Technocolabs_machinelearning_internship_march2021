{
  "nbformat": 4,
  "nbformat_minor": 0,
  "metadata": {
    "colab": {
      "name": "Predicting_Reddit_post_popularity_through_upvotes_or_comments_ (1).ipynb",
      "provenance": [],
      "collapsed_sections": []
    },
    "kernelspec": {
      "name": "python3",
      "display_name": "Python 3"
    }
  },
  "cells": [
    {
      "cell_type": "code",
      "metadata": {
        "id": "u8hq4A6jY0xQ"
      },
      "source": [
        "#importing necessary libraries\r\n",
        "import pandas as pd \r\n",
        "import numpy as np\r\n",
        "import seaborn as sns\r\n",
        "%matplotlib inline"
      ],
      "execution_count": 97,
      "outputs": []
    },
    {
      "cell_type": "code",
      "metadata": {
        "colab": {
          "base_uri": "https://localhost:8080/",
          "height": 204
        },
        "id": "eSAwDgAVZb2_",
        "outputId": "d5fe2678-608f-401b-8681-94e0fa4652d8"
      },
      "source": [
        "Reddit = pd.read_csv(\"/content/Reddit.csv\")\r\n",
        "#getting first 5 rows\r\n",
        "Reddit.head()"
      ],
      "execution_count": 14,
      "outputs": [
        {
          "output_type": "execute_result",
          "data": {
            "text/html": [
              "<div>\n",
              "<style scoped>\n",
              "    .dataframe tbody tr th:only-of-type {\n",
              "        vertical-align: middle;\n",
              "    }\n",
              "\n",
              "    .dataframe tbody tr th {\n",
              "        vertical-align: top;\n",
              "    }\n",
              "\n",
              "    .dataframe thead th {\n",
              "        text-align: right;\n",
              "    }\n",
              "</style>\n",
              "<table border=\"1\" class=\"dataframe\">\n",
              "  <thead>\n",
              "    <tr style=\"text-align: right;\">\n",
              "      <th></th>\n",
              "      <th>Unnamed: 0</th>\n",
              "      <th>Title</th>\n",
              "      <th>Upvote_ratio</th>\n",
              "      <th>Score</th>\n",
              "      <th>Gilded</th>\n",
              "      <th>Over_18</th>\n",
              "      <th>Number_of_Comments</th>\n",
              "    </tr>\n",
              "  </thead>\n",
              "  <tbody>\n",
              "    <tr>\n",
              "      <th>0</th>\n",
              "      <td>0</td>\n",
              "      <td>House impeaches Trump for second time over Cap...</td>\n",
              "      <td>0.72</td>\n",
              "      <td>39464</td>\n",
              "      <td>2</td>\n",
              "      <td>False</td>\n",
              "      <td>8801</td>\n",
              "    </tr>\n",
              "    <tr>\n",
              "      <th>1</th>\n",
              "      <td>1</td>\n",
              "      <td>I'm a 16 yr old blacksmith and I forged this w...</td>\n",
              "      <td>0.90</td>\n",
              "      <td>29423</td>\n",
              "      <td>0</td>\n",
              "      <td>False</td>\n",
              "      <td>443</td>\n",
              "    </tr>\n",
              "    <tr>\n",
              "      <th>2</th>\n",
              "      <td>2</td>\n",
              "      <td>Do some research before spouting nonsense</td>\n",
              "      <td>0.90</td>\n",
              "      <td>50420</td>\n",
              "      <td>0</td>\n",
              "      <td>False</td>\n",
              "      <td>1008</td>\n",
              "    </tr>\n",
              "    <tr>\n",
              "      <th>3</th>\n",
              "      <td>3</td>\n",
              "      <td>Moving boxes arrive at the White House</td>\n",
              "      <td>0.81</td>\n",
              "      <td>149858</td>\n",
              "      <td>6</td>\n",
              "      <td>False</td>\n",
              "      <td>4392</td>\n",
              "    </tr>\n",
              "    <tr>\n",
              "      <th>4</th>\n",
              "      <td>4</td>\n",
              "      <td>“No One Took Us Seriously”: Black Cops Warned ...</td>\n",
              "      <td>0.98</td>\n",
              "      <td>7768</td>\n",
              "      <td>0</td>\n",
              "      <td>False</td>\n",
              "      <td>157</td>\n",
              "    </tr>\n",
              "  </tbody>\n",
              "</table>\n",
              "</div>"
            ],
            "text/plain": [
              "   Unnamed: 0  ... Number_of_Comments\n",
              "0           0  ...               8801\n",
              "1           1  ...                443\n",
              "2           2  ...               1008\n",
              "3           3  ...               4392\n",
              "4           4  ...                157\n",
              "\n",
              "[5 rows x 7 columns]"
            ]
          },
          "metadata": {
            "tags": []
          },
          "execution_count": 14
        }
      ]
    },
    {
      "cell_type": "code",
      "metadata": {
        "colab": {
          "base_uri": "https://localhost:8080/",
          "height": 374
        },
        "id": "4ZQawFyRZqFM",
        "outputId": "4b07f169-367e-4db2-d9ae-655abfa96a5c"
      },
      "source": [
        "final = pd.read_csv(\"/content/final.csv\")\r\n",
        "final.head()"
      ],
      "execution_count": 15,
      "outputs": [
        {
          "output_type": "execute_result",
          "data": {
            "text/html": [
              "<div>\n",
              "<style scoped>\n",
              "    .dataframe tbody tr th:only-of-type {\n",
              "        vertical-align: middle;\n",
              "    }\n",
              "\n",
              "    .dataframe tbody tr th {\n",
              "        vertical-align: top;\n",
              "    }\n",
              "\n",
              "    .dataframe thead th {\n",
              "        text-align: right;\n",
              "    }\n",
              "</style>\n",
              "<table border=\"1\" class=\"dataframe\">\n",
              "  <thead>\n",
              "    <tr style=\"text-align: right;\">\n",
              "      <th></th>\n",
              "      <th>Unnamed: 0</th>\n",
              "      <th>Title</th>\n",
              "      <th>Upvote_ratio</th>\n",
              "      <th>Score</th>\n",
              "      <th>Gilded</th>\n",
              "      <th>Over_18</th>\n",
              "      <th>Number_of_Comments</th>\n",
              "      <th>neg</th>\n",
              "      <th>neu</th>\n",
              "      <th>pos</th>\n",
              "      <th>compound</th>\n",
              "    </tr>\n",
              "  </thead>\n",
              "  <tbody>\n",
              "    <tr>\n",
              "      <th>0</th>\n",
              "      <td>0</td>\n",
              "      <td>House impeaches Trump for second time over Cap...</td>\n",
              "      <td>0.72</td>\n",
              "      <td>39464</td>\n",
              "      <td>2</td>\n",
              "      <td>False</td>\n",
              "      <td>8801</td>\n",
              "      <td>0.292</td>\n",
              "      <td>0.708</td>\n",
              "      <td>0.000</td>\n",
              "      <td>-0.5106</td>\n",
              "    </tr>\n",
              "    <tr>\n",
              "      <th>1</th>\n",
              "      <td>1</td>\n",
              "      <td>I'm a 16 yr old blacksmith and I forged this w...</td>\n",
              "      <td>0.90</td>\n",
              "      <td>29423</td>\n",
              "      <td>0</td>\n",
              "      <td>False</td>\n",
              "      <td>443</td>\n",
              "      <td>0.000</td>\n",
              "      <td>0.633</td>\n",
              "      <td>0.367</td>\n",
              "      <td>0.8268</td>\n",
              "    </tr>\n",
              "    <tr>\n",
              "      <th>2</th>\n",
              "      <td>2</td>\n",
              "      <td>Do some research before spouting nonsense</td>\n",
              "      <td>0.90</td>\n",
              "      <td>50420</td>\n",
              "      <td>0</td>\n",
              "      <td>False</td>\n",
              "      <td>1008</td>\n",
              "      <td>0.351</td>\n",
              "      <td>0.649</td>\n",
              "      <td>0.000</td>\n",
              "      <td>-0.4019</td>\n",
              "    </tr>\n",
              "    <tr>\n",
              "      <th>3</th>\n",
              "      <td>3</td>\n",
              "      <td>Moving boxes arrive at the White House</td>\n",
              "      <td>0.81</td>\n",
              "      <td>149858</td>\n",
              "      <td>6</td>\n",
              "      <td>False</td>\n",
              "      <td>4392</td>\n",
              "      <td>0.000</td>\n",
              "      <td>1.000</td>\n",
              "      <td>0.000</td>\n",
              "      <td>0.0000</td>\n",
              "    </tr>\n",
              "    <tr>\n",
              "      <th>4</th>\n",
              "      <td>4</td>\n",
              "      <td>“No One Took Us Seriously”: Black Cops Warned ...</td>\n",
              "      <td>0.98</td>\n",
              "      <td>7768</td>\n",
              "      <td>0</td>\n",
              "      <td>False</td>\n",
              "      <td>157</td>\n",
              "      <td>0.319</td>\n",
              "      <td>0.681</td>\n",
              "      <td>0.000</td>\n",
              "      <td>-0.7269</td>\n",
              "    </tr>\n",
              "  </tbody>\n",
              "</table>\n",
              "</div>"
            ],
            "text/plain": [
              "   Unnamed: 0  ... compound\n",
              "0           0  ...  -0.5106\n",
              "1           1  ...   0.8268\n",
              "2           2  ...  -0.4019\n",
              "3           3  ...   0.0000\n",
              "4           4  ...  -0.7269\n",
              "\n",
              "[5 rows x 11 columns]"
            ]
          },
          "metadata": {
            "tags": []
          },
          "execution_count": 15
        }
      ]
    },
    {
      "cell_type": "code",
      "metadata": {
        "colab": {
          "base_uri": "https://localhost:8080/",
          "height": 238
        },
        "id": "seRR3EeLZ3X2",
        "outputId": "809c0db2-e8f9-4d9c-faba-1cfc137a42a6"
      },
      "source": [
        "embedded = pd.read_csv(\"/content/embedded.csv\")\r\n",
        "embedded.head()"
      ],
      "execution_count": 16,
      "outputs": [
        {
          "output_type": "execute_result",
          "data": {
            "text/html": [
              "<div>\n",
              "<style scoped>\n",
              "    .dataframe tbody tr th:only-of-type {\n",
              "        vertical-align: middle;\n",
              "    }\n",
              "\n",
              "    .dataframe tbody tr th {\n",
              "        vertical-align: top;\n",
              "    }\n",
              "\n",
              "    .dataframe thead th {\n",
              "        text-align: right;\n",
              "    }\n",
              "</style>\n",
              "<table border=\"1\" class=\"dataframe\">\n",
              "  <thead>\n",
              "    <tr style=\"text-align: right;\">\n",
              "      <th></th>\n",
              "      <th>0 1 2 3 4 5 6 7 8 9 10 11 12 13 14 15 16 17 18 19 20 21 22 23 24 25 26 27 28 29 30 31 32 33 34 35 36 37 38 39 40 41 42 43 44 45 46 47 48 49 50 51 52 53 54 55 56 57 58 59 60 61 62 63 64 65 66 67 68 69 70 71 72 73 74 75 76 77 78 79 80 81 82 83 84 85 86 87 88 89 90 91 92 93 94 95 96 97 98 99</th>\n",
              "    </tr>\n",
              "  </thead>\n",
              "  <tbody>\n",
              "    <tr>\n",
              "      <th>0</th>\n",
              "      <td>0.00 0.00 0.00 0.00 0.00 0.00 0.00 0.00 0.00 0...</td>\n",
              "    </tr>\n",
              "    <tr>\n",
              "      <th>1</th>\n",
              "      <td>0.08 0.39 0.90 -0.30 -0.33 0.60 0.23 0.59 0.13...</td>\n",
              "    </tr>\n",
              "    <tr>\n",
              "      <th>2</th>\n",
              "      <td>-0.27 0.82 0.70 -0.72 0.09 0.20 -0.52 -0.24 -0...</td>\n",
              "    </tr>\n",
              "    <tr>\n",
              "      <th>3</th>\n",
              "      <td>-0.02 -0.03 0.36 -0.02 -0.55 0.32 0.01 0.35 -0...</td>\n",
              "    </tr>\n",
              "    <tr>\n",
              "      <th>4</th>\n",
              "      <td>-0.04 0.19 0.66 -0.49 0.32 -0.34 -0.07 0.31 -0...</td>\n",
              "    </tr>\n",
              "  </tbody>\n",
              "</table>\n",
              "</div>"
            ],
            "text/plain": [
              "  0 1 2 3 4 5 6 7 8 9 10 11 12 13 14 15 16 17 18 19 20 21 22 23 24 25 26 27 28 29 30 31 32 33 34 35 36 37 38 39 40 41 42 43 44 45 46 47 48 49 50 51 52 53 54 55 56 57 58 59 60 61 62 63 64 65 66 67 68 69 70 71 72 73 74 75 76 77 78 79 80 81 82 83 84 85 86 87 88 89 90 91 92 93 94 95 96 97 98 99\n",
              "0  0.00 0.00 0.00 0.00 0.00 0.00 0.00 0.00 0.00 0...                                                                                                                                                                                                                                               \n",
              "1  0.08 0.39 0.90 -0.30 -0.33 0.60 0.23 0.59 0.13...                                                                                                                                                                                                                                               \n",
              "2  -0.27 0.82 0.70 -0.72 0.09 0.20 -0.52 -0.24 -0...                                                                                                                                                                                                                                               \n",
              "3  -0.02 -0.03 0.36 -0.02 -0.55 0.32 0.01 0.35 -0...                                                                                                                                                                                                                                               \n",
              "4  -0.04 0.19 0.66 -0.49 0.32 -0.34 -0.07 0.31 -0...                                                                                                                                                                                                                                               "
            ]
          },
          "metadata": {
            "tags": []
          },
          "execution_count": 16
        }
      ]
    },
    {
      "cell_type": "code",
      "metadata": {
        "colab": {
          "base_uri": "https://localhost:8080/",
          "height": 129
        },
        "id": "99p5vY9eaEDk",
        "outputId": "856dbc94-20f9-4f87-8ceb-a6a8400e1fd2"
      },
      "source": [
        "tokens = pd.read_csv(\"/content/tokens.csv\")\r\n",
        "tokens.head()"
      ],
      "execution_count": 17,
      "outputs": [
        {
          "output_type": "execute_result",
          "data": {
            "text/html": [
              "<div>\n",
              "<style scoped>\n",
              "    .dataframe tbody tr th:only-of-type {\n",
              "        vertical-align: middle;\n",
              "    }\n",
              "\n",
              "    .dataframe tbody tr th {\n",
              "        vertical-align: top;\n",
              "    }\n",
              "\n",
              "    .dataframe thead th {\n",
              "        text-align: right;\n",
              "    }\n",
              "</style>\n",
              "<table border=\"1\" class=\"dataframe\">\n",
              "  <thead>\n",
              "    <tr style=\"text-align: right;\">\n",
              "      <th></th>\n",
              "      <th>just</th>\n",
              "      <th>like</th>\n",
              "      <th>time</th>\n",
              "      <th>new</th>\n",
              "      <th>im</th>\n",
              "      <th>dont</th>\n",
              "      <th>trump</th>\n",
              "      <th>year</th>\n",
              "      <th>day</th>\n",
              "      <th>capitol</th>\n",
              "      <th>got</th>\n",
              "      <th>think</th>\n",
              "      <th>irl</th>\n",
              "      <th>good</th>\n",
              "      <th>say</th>\n",
              "      <th>love</th>\n",
              "      <th>game</th>\n",
              "      <th>know</th>\n",
              "      <th>today</th>\n",
              "      <th>guy</th>\n",
              "      <th>make</th>\n",
              "      <th>people</th>\n",
              "      <th>right</th>\n",
              "      <th>cursed</th>\n",
              "      <th>friend</th>\n",
              "      <th>want</th>\n",
              "      <th>best</th>\n",
              "      <th>post</th>\n",
              "      <th>meme</th>\n",
              "      <th>look</th>\n",
              "      <th>old</th>\n",
              "      <th>did</th>\n",
              "      <th>really</th>\n",
              "      <th>work</th>\n",
              "      <th>man</th>\n",
              "      <th>thats</th>\n",
              "      <th>finally</th>\n",
              "      <th>art</th>\n",
              "      <th>video</th>\n",
              "      <th>2</th>\n",
              "      <th>...</th>\n",
              "      <th>taytinabelle</th>\n",
              "      <th>remained</th>\n",
              "      <th>lockerroom</th>\n",
              "      <th>jeff</th>\n",
              "      <th>mushka</th>\n",
              "      <th>closeup</th>\n",
              "      <th>potriate</th>\n",
              "      <th>phillips</th>\n",
              "      <th>port</th>\n",
              "      <th>monomyth</th>\n",
              "      <th>emerald</th>\n",
              "      <th>rom</th>\n",
              "      <th>hack</th>\n",
              "      <th>48th</th>\n",
              "      <th>giancarlo</th>\n",
              "      <th>fisichella</th>\n",
              "      <th>2005</th>\n",
              "      <th>seagull</th>\n",
              "      <th>tent</th>\n",
              "      <th>bt</th>\n",
              "      <th>unexpectedly</th>\n",
              "      <th>mole</th>\n",
              "      <th>happening</th>\n",
              "      <th>rangerrogue</th>\n",
              "      <th>multiclass</th>\n",
              "      <th>curlyhorned</th>\n",
              "      <th>humanfaced</th>\n",
              "      <th>viii</th>\n",
              "      <th>1511</th>\n",
              "      <th>ally</th>\n",
              "      <th>rjadenanimations</th>\n",
              "      <th>jaden</th>\n",
              "      <th>reposting</th>\n",
              "      <th>riyo</th>\n",
              "      <th>pawper</th>\n",
              "      <th>barbies</th>\n",
              "      <th>alain</th>\n",
              "      <th>medalist</th>\n",
              "      <th>klete</th>\n",
              "      <th>keller</th>\n",
              "    </tr>\n",
              "  </thead>\n",
              "  <tbody>\n",
              "    <tr>\n",
              "      <th>0</th>\n",
              "      <td>1</td>\n",
              "      <td>2</td>\n",
              "      <td>3</td>\n",
              "      <td>4</td>\n",
              "      <td>5</td>\n",
              "      <td>6</td>\n",
              "      <td>7</td>\n",
              "      <td>8</td>\n",
              "      <td>9</td>\n",
              "      <td>10</td>\n",
              "      <td>11</td>\n",
              "      <td>12</td>\n",
              "      <td>13</td>\n",
              "      <td>14</td>\n",
              "      <td>15</td>\n",
              "      <td>16</td>\n",
              "      <td>17</td>\n",
              "      <td>18</td>\n",
              "      <td>19</td>\n",
              "      <td>20</td>\n",
              "      <td>21</td>\n",
              "      <td>22</td>\n",
              "      <td>23</td>\n",
              "      <td>24</td>\n",
              "      <td>25</td>\n",
              "      <td>26</td>\n",
              "      <td>27</td>\n",
              "      <td>28</td>\n",
              "      <td>29</td>\n",
              "      <td>30</td>\n",
              "      <td>31</td>\n",
              "      <td>32</td>\n",
              "      <td>33</td>\n",
              "      <td>34</td>\n",
              "      <td>35</td>\n",
              "      <td>36</td>\n",
              "      <td>37</td>\n",
              "      <td>38</td>\n",
              "      <td>39</td>\n",
              "      <td>40</td>\n",
              "      <td>...</td>\n",
              "      <td>10322</td>\n",
              "      <td>10323</td>\n",
              "      <td>10324</td>\n",
              "      <td>10325</td>\n",
              "      <td>10326</td>\n",
              "      <td>10327</td>\n",
              "      <td>10328</td>\n",
              "      <td>10329</td>\n",
              "      <td>10330</td>\n",
              "      <td>10331</td>\n",
              "      <td>10332</td>\n",
              "      <td>10333</td>\n",
              "      <td>10334</td>\n",
              "      <td>10335</td>\n",
              "      <td>10336</td>\n",
              "      <td>10337</td>\n",
              "      <td>10338</td>\n",
              "      <td>10339</td>\n",
              "      <td>10340</td>\n",
              "      <td>10341</td>\n",
              "      <td>10342</td>\n",
              "      <td>10343</td>\n",
              "      <td>10344</td>\n",
              "      <td>10345</td>\n",
              "      <td>10346</td>\n",
              "      <td>10347</td>\n",
              "      <td>10348</td>\n",
              "      <td>10349</td>\n",
              "      <td>10350</td>\n",
              "      <td>10351</td>\n",
              "      <td>10352</td>\n",
              "      <td>10353</td>\n",
              "      <td>10354</td>\n",
              "      <td>10355</td>\n",
              "      <td>10356</td>\n",
              "      <td>10357</td>\n",
              "      <td>10358</td>\n",
              "      <td>10359</td>\n",
              "      <td>10360</td>\n",
              "      <td>10361</td>\n",
              "    </tr>\n",
              "  </tbody>\n",
              "</table>\n",
              "<p>1 rows × 10361 columns</p>\n",
              "</div>"
            ],
            "text/plain": [
              "   just  like  time  new  im  ...  barbies  alain  medalist  klete  keller\n",
              "0     1     2     3    4   5  ...    10357  10358     10359  10360   10361\n",
              "\n",
              "[1 rows x 10361 columns]"
            ]
          },
          "metadata": {
            "tags": []
          },
          "execution_count": 17
        }
      ]
    },
    {
      "cell_type": "code",
      "metadata": {
        "id": "2rh2CpKjfFnt"
      },
      "source": [
        "#cheking if there is any missing value is present in the data"
      ],
      "execution_count": null,
      "outputs": []
    },
    {
      "cell_type": "code",
      "metadata": {
        "colab": {
          "base_uri": "https://localhost:8080/"
        },
        "id": "EWnOFXFHaSfk",
        "outputId": "de41a8ac-d609-48ce-fa4b-7837144d96d6"
      },
      "source": [
        "Reddit.isnull().sum()"
      ],
      "execution_count": 25,
      "outputs": [
        {
          "output_type": "execute_result",
          "data": {
            "text/plain": [
              "Unnamed: 0            0\n",
              "Title                 0\n",
              "Upvote_ratio          0\n",
              "Score                 0\n",
              "Gilded                0\n",
              "Over_18               0\n",
              "Number_of_Comments    0\n",
              "dtype: int64"
            ]
          },
          "metadata": {
            "tags": []
          },
          "execution_count": 25
        }
      ]
    },
    {
      "cell_type": "code",
      "metadata": {
        "colab": {
          "base_uri": "https://localhost:8080/"
        },
        "id": "5lJ3CAaeadRb",
        "outputId": "342b8b1f-05b2-4180-a051-6f7dc6c495e9"
      },
      "source": [
        "final.isnull().sum()"
      ],
      "execution_count": 26,
      "outputs": [
        {
          "output_type": "execute_result",
          "data": {
            "text/plain": [
              "Unnamed: 0            0\n",
              "Title                 0\n",
              "Upvote_ratio          0\n",
              "Score                 0\n",
              "Gilded                0\n",
              "Over_18               0\n",
              "Number_of_Comments    0\n",
              "neg                   0\n",
              "neu                   0\n",
              "pos                   0\n",
              "compound              0\n",
              "dtype: int64"
            ]
          },
          "metadata": {
            "tags": []
          },
          "execution_count": 26
        }
      ]
    },
    {
      "cell_type": "code",
      "metadata": {
        "colab": {
          "base_uri": "https://localhost:8080/"
        },
        "id": "PN4neLTtam7p",
        "outputId": "48acadfd-c9ac-4eec-eda5-675a590c745d"
      },
      "source": [
        "embedded.isnull().sum()"
      ],
      "execution_count": 27,
      "outputs": [
        {
          "output_type": "execute_result",
          "data": {
            "text/plain": [
              "0 1 2 3 4 5 6 7 8 9 10 11 12 13 14 15 16 17 18 19 20 21 22 23 24 25 26 27 28 29 30 31 32 33 34 35 36 37 38 39 40 41 42 43 44 45 46 47 48 49 50 51 52 53 54 55 56 57 58 59 60 61 62 63 64 65 66 67 68 69 70 71 72 73 74 75 76 77 78 79 80 81 82 83 84 85 86 87 88 89 90 91 92 93 94 95 96 97 98 99    0\n",
              "dtype: int64"
            ]
          },
          "metadata": {
            "tags": []
          },
          "execution_count": 27
        }
      ]
    },
    {
      "cell_type": "code",
      "metadata": {
        "colab": {
          "base_uri": "https://localhost:8080/"
        },
        "id": "dTN8rZ9Ya83T",
        "outputId": "8a992388-f8d2-4e1d-ac33-162e53a8cdea"
      },
      "source": [
        "tokens.isnull().sum()"
      ],
      "execution_count": 28,
      "outputs": [
        {
          "output_type": "execute_result",
          "data": {
            "text/plain": [
              "just        0\n",
              "like        0\n",
              "time        0\n",
              "new         0\n",
              "im          0\n",
              "           ..\n",
              "barbies     0\n",
              "alain       0\n",
              "medalist    0\n",
              "klete       0\n",
              "keller      0\n",
              "Length: 10361, dtype: int64"
            ]
          },
          "metadata": {
            "tags": []
          },
          "execution_count": 28
        }
      ]
    },
    {
      "cell_type": "code",
      "metadata": {
        "colab": {
          "base_uri": "https://localhost:8080/",
          "height": 297
        },
        "id": "iDbasm0EbUJ5",
        "outputId": "be01ab23-0b4d-4eba-c376-f65eb5b157c0"
      },
      "source": [
        "#data visualization between dependent and independent variables\r\n",
        "#scatter plot\r\n",
        "sns.scatterplot(x=Reddit['Number_of_Comments'], y=Reddit['Gilded'], hue=Reddit['Score'])"
      ],
      "execution_count": 103,
      "outputs": [
        {
          "output_type": "execute_result",
          "data": {
            "text/plain": [
              "<matplotlib.axes._subplots.AxesSubplot at 0x7ff178d9eb50>"
            ]
          },
          "metadata": {
            "tags": []
          },
          "execution_count": 103
        },
        {
          "output_type": "display_data",
          "data": {
            "image/png": "[encoded data removed]",
            "text/plain": [
              "<Figure size 432x288 with 1 Axes>"
            ]
          },
          "metadata": {
            "tags": [],
            "needs_background": "light"
          }
        }
      ]
    },
    {
      "cell_type": "code",
      "metadata": {
        "id": "zOpiDKrVcECv"
      },
      "source": [
        "#preparing data for modeling \r\n",
        "#independent variable\r\n",
        "y = final.Score"
      ],
      "execution_count": 29,
      "outputs": []
    },
    {
      "cell_type": "code",
      "metadata": {
        "id": "saOLt68beOUi"
      },
      "source": [
        "final_features = ['Gilded','Number_of_Comments']"
      ],
      "execution_count": 30,
      "outputs": []
    },
    {
      "cell_type": "code",
      "metadata": {
        "id": "q3bsUsa11oyT"
      },
      "source": [
        "#dependent variable\r\n",
        "x = final[final_features]"
      ],
      "execution_count": 31,
      "outputs": []
    },
    {
      "cell_type": "code",
      "metadata": {
        "colab": {
          "base_uri": "https://localhost:8080/",
          "height": 297
        },
        "id": "FxPcx_Ww2Ysu",
        "outputId": "7ae191e3-78f1-4932-b94b-68493b1820a2"
      },
      "source": [
        "x.describe()"
      ],
      "execution_count": 21,
      "outputs": [
        {
          "output_type": "execute_result",
          "data": {
            "text/html": [
              "<div>\n",
              "<style scoped>\n",
              "    .dataframe tbody tr th:only-of-type {\n",
              "        vertical-align: middle;\n",
              "    }\n",
              "\n",
              "    .dataframe tbody tr th {\n",
              "        vertical-align: top;\n",
              "    }\n",
              "\n",
              "    .dataframe thead th {\n",
              "        text-align: right;\n",
              "    }\n",
              "</style>\n",
              "<table border=\"1\" class=\"dataframe\">\n",
              "  <thead>\n",
              "    <tr style=\"text-align: right;\">\n",
              "      <th></th>\n",
              "      <th>Gilded</th>\n",
              "      <th>Number_of_Comments</th>\n",
              "    </tr>\n",
              "  </thead>\n",
              "  <tbody>\n",
              "    <tr>\n",
              "      <th>count</th>\n",
              "      <td>7471.000000</td>\n",
              "      <td>7471.000000</td>\n",
              "    </tr>\n",
              "    <tr>\n",
              "      <th>mean</th>\n",
              "      <td>0.054477</td>\n",
              "      <td>100.394191</td>\n",
              "    </tr>\n",
              "    <tr>\n",
              "      <th>std</th>\n",
              "      <td>0.382486</td>\n",
              "      <td>452.414870</td>\n",
              "    </tr>\n",
              "    <tr>\n",
              "      <th>min</th>\n",
              "      <td>0.000000</td>\n",
              "      <td>0.000000</td>\n",
              "    </tr>\n",
              "    <tr>\n",
              "      <th>25%</th>\n",
              "      <td>0.000000</td>\n",
              "      <td>10.000000</td>\n",
              "    </tr>\n",
              "    <tr>\n",
              "      <th>50%</th>\n",
              "      <td>0.000000</td>\n",
              "      <td>26.000000</td>\n",
              "    </tr>\n",
              "    <tr>\n",
              "      <th>75%</th>\n",
              "      <td>0.000000</td>\n",
              "      <td>73.000000</td>\n",
              "    </tr>\n",
              "    <tr>\n",
              "      <th>max</th>\n",
              "      <td>17.000000</td>\n",
              "      <td>24155.000000</td>\n",
              "    </tr>\n",
              "  </tbody>\n",
              "</table>\n",
              "</div>"
            ],
            "text/plain": [
              "            Gilded  Number_of_Comments\n",
              "count  7471.000000         7471.000000\n",
              "mean      0.054477          100.394191\n",
              "std       0.382486          452.414870\n",
              "min       0.000000            0.000000\n",
              "25%       0.000000           10.000000\n",
              "50%       0.000000           26.000000\n",
              "75%       0.000000           73.000000\n",
              "max      17.000000        24155.000000"
            ]
          },
          "metadata": {
            "tags": []
          },
          "execution_count": 21
        }
      ]
    },
    {
      "cell_type": "code",
      "metadata": {
        "colab": {
          "base_uri": "https://localhost:8080/",
          "height": 204
        },
        "id": "w8g_bgvi2gzZ",
        "outputId": "f4eeed93-96f0-4bfa-ca5a-0b9fe487f410"
      },
      "source": [
        "x.head()"
      ],
      "execution_count": 22,
      "outputs": [
        {
          "output_type": "execute_result",
          "data": {
            "text/html": [
              "<div>\n",
              "<style scoped>\n",
              "    .dataframe tbody tr th:only-of-type {\n",
              "        vertical-align: middle;\n",
              "    }\n",
              "\n",
              "    .dataframe tbody tr th {\n",
              "        vertical-align: top;\n",
              "    }\n",
              "\n",
              "    .dataframe thead th {\n",
              "        text-align: right;\n",
              "    }\n",
              "</style>\n",
              "<table border=\"1\" class=\"dataframe\">\n",
              "  <thead>\n",
              "    <tr style=\"text-align: right;\">\n",
              "      <th></th>\n",
              "      <th>Gilded</th>\n",
              "      <th>Number_of_Comments</th>\n",
              "    </tr>\n",
              "  </thead>\n",
              "  <tbody>\n",
              "    <tr>\n",
              "      <th>0</th>\n",
              "      <td>2</td>\n",
              "      <td>8801</td>\n",
              "    </tr>\n",
              "    <tr>\n",
              "      <th>1</th>\n",
              "      <td>0</td>\n",
              "      <td>443</td>\n",
              "    </tr>\n",
              "    <tr>\n",
              "      <th>2</th>\n",
              "      <td>0</td>\n",
              "      <td>1008</td>\n",
              "    </tr>\n",
              "    <tr>\n",
              "      <th>3</th>\n",
              "      <td>6</td>\n",
              "      <td>4392</td>\n",
              "    </tr>\n",
              "    <tr>\n",
              "      <th>4</th>\n",
              "      <td>0</td>\n",
              "      <td>157</td>\n",
              "    </tr>\n",
              "  </tbody>\n",
              "</table>\n",
              "</div>"
            ],
            "text/plain": [
              "   Gilded  Number_of_Comments\n",
              "0       2                8801\n",
              "1       0                 443\n",
              "2       0                1008\n",
              "3       6                4392\n",
              "4       0                 157"
            ]
          },
          "metadata": {
            "tags": []
          },
          "execution_count": 22
        }
      ]
    },
    {
      "cell_type": "code",
      "metadata": {
        "id": "8gaRPJGlfX0P"
      },
      "source": [
        "# DecisionTree model"
      ],
      "execution_count": null,
      "outputs": []
    },
    {
      "cell_type": "code",
      "metadata": {
        "colab": {
          "base_uri": "https://localhost:8080/"
        },
        "id": "QuxVMSVS2-_1",
        "outputId": "42164137-0528-4be4-99d9-0a7e34414e03"
      },
      "source": [
        "from sklearn.tree import DecisionTreeRegressor\r\n",
        "final = DecisionTreeRegressor(random_state=1)\r\n",
        "final.fit(x, y)"
      ],
      "execution_count": 33,
      "outputs": [
        {
          "output_type": "execute_result",
          "data": {
            "text/plain": [
              "DecisionTreeRegressor(ccp_alpha=0.0, criterion='mse', max_depth=None,\n",
              "                      max_features=None, max_leaf_nodes=None,\n",
              "                      min_impurity_decrease=0.0, min_impurity_split=None,\n",
              "                      min_samples_leaf=1, min_samples_split=2,\n",
              "                      min_weight_fraction_leaf=0.0, presort='deprecated',\n",
              "                      random_state=1, splitter='best')"
            ]
          },
          "metadata": {
            "tags": []
          },
          "execution_count": 33
        }
      ]
    },
    {
      "cell_type": "code",
      "metadata": {
        "colab": {
          "base_uri": "https://localhost:8080/"
        },
        "id": "G7CNQxP03tCM",
        "outputId": "a266b492-0659-4472-dcae-2670c0e42e7c"
      },
      "source": [
        "print(\"Making predictions for the following:\")\r\n",
        "print(x.head())\r\n",
        "print(\"The predictions are\")\r\n",
        "print(final.predict(x.head()))"
      ],
      "execution_count": 34,
      "outputs": [
        {
          "output_type": "stream",
          "text": [
            "Making predictions for the following:\n",
            "   Gilded  Number_of_Comments\n",
            "0       2                8801\n",
            "1       0                 443\n",
            "2       0                1008\n",
            "3       6                4392\n",
            "4       0                 157\n",
            "The predictions are\n",
            "[ 39464.          15073.5         50420.         149858.\n",
            "  11194.66666667]\n"
          ],
          "name": "stdout"
        }
      ]
    },
    {
      "cell_type": "code",
      "metadata": {
        "colab": {
          "base_uri": "https://localhost:8080/"
        },
        "id": "QjdZLTOU4w_S",
        "outputId": "827c6092-131a-45cf-aa5b-6fb4059ec591"
      },
      "source": [
        "%%time\r\n",
        "from sklearn.metrics import mean_absolute_error\r\n",
        "\r\n",
        "predicted_Score = final.predict(x)\r\n",
        "mean_absolute_error(y, predicted_Score)"
      ],
      "execution_count": 49,
      "outputs": [
        {
          "output_type": "stream",
          "text": [
            "CPU times: user 4.56 ms, sys: 0 ns, total: 4.56 ms\n",
            "Wall time: 4.99 ms\n"
          ],
          "name": "stdout"
        }
      ]
    },
    {
      "cell_type": "code",
      "metadata": {
        "colab": {
          "base_uri": "https://localhost:8080/"
        },
        "id": "WlakVlt05Jq2",
        "outputId": "23ce13a6-70a2-41f8-91d7-ed7ff9c30bb4"
      },
      "source": [
        "%%time\r\n",
        "from sklearn.model_selection import train_test_split\r\n",
        "# run this script.\r\n",
        "train_x, test_x, train_y, test_y = train_test_split(x, y, random_state = 0)\r\n",
        "# Define model\r\n",
        "final = DecisionTreeRegressor()\r\n",
        "# Fit model\r\n",
        "final.fit(train_x, train_y)\r\n",
        "# get predicted on validation data\r\n",
        "val_predictions = final.predict(val_x)\r\n",
        "descision_model1 = print(mean_absolute_error(val_y, val_predictions))\r\n"
      ],
      "execution_count": 61,
      "outputs": [
        {
          "output_type": "stream",
          "text": [
            "3189.4024491540426\n",
            "CPU times: user 12.1 ms, sys: 1.01 ms, total: 13.1 ms\n",
            "Wall time: 13.5 ms\n"
          ],
          "name": "stdout"
        }
      ]
    },
    {
      "cell_type": "code",
      "metadata": {
        "id": "UfALYonffl2J"
      },
      "source": [
        "# Random forest model"
      ],
      "execution_count": null,
      "outputs": []
    },
    {
      "cell_type": "code",
      "metadata": {
        "colab": {
          "base_uri": "https://localhost:8080/"
        },
        "id": "CS5Hq_9jl1c_",
        "outputId": "e767b101-58b9-4be0-8fa0-48557f8f3a55"
      },
      "source": [
        "%%time\r\n",
        "from sklearn.ensemble import RandomForestRegressor\r\n",
        "from sklearn.metrics import mean_absolute_error\r\n",
        "\r\n",
        "forest_model = RandomForestRegressor()\r\n",
        "forest_model.fit(train_x, train_y)\r\n",
        "Randomforest_preds = forest_model.predict(test_x)\r\n",
        "forest_model1 = print(mean_absolute_error(test_y, Randomforest_preds))"
      ],
      "execution_count": 62,
      "outputs": [
        {
          "output_type": "stream",
          "text": [
            "3096.7858184232523\n",
            "CPU times: user 381 ms, sys: 4.74 ms, total: 386 ms\n",
            "Wall time: 390 ms\n"
          ],
          "name": "stdout"
        }
      ]
    },
    {
      "cell_type": "code",
      "metadata": {
        "id": "rEf60y9qfqEn"
      },
      "source": [
        "# KNeighbors model"
      ],
      "execution_count": null,
      "outputs": []
    },
    {
      "cell_type": "code",
      "metadata": {
        "colab": {
          "base_uri": "https://localhost:8080/"
        },
        "id": "xAVngntSlQug",
        "outputId": "c1f98614-95d6-45df-a1b5-b3ba2df8b856"
      },
      "source": [
        "%%time\r\n",
        "from sklearn.neighbors import KNeighborsRegressor\r\n",
        "from sklearn.metrics import mean_absolute_error\r\n",
        "KNN_model = KNeighborsRegressor()\r\n",
        "KNN_model.fit(train_x, train_y)\r\n",
        "KNN_preds = KNN_model.predict(test_x)\r\n",
        "KNN_model1 = print(mean_absolute_error(test_y, KNN_preds))"
      ],
      "execution_count": 96,
      "outputs": [
        {
          "output_type": "stream",
          "text": [
            "3175.834796573876\n",
            "CPU times: user 11.9 ms, sys: 0 ns, total: 11.9 ms\n",
            "Wall time: 17.9 ms\n"
          ],
          "name": "stdout"
        }
      ]
    },
    {
      "cell_type": "code",
      "metadata": {
        "id": "s9K2rwdqfx6x"
      },
      "source": [
        "#LinearRegression model"
      ],
      "execution_count": null,
      "outputs": []
    },
    {
      "cell_type": "code",
      "metadata": {
        "id": "9MPV77j50lin",
        "colab": {
          "base_uri": "https://localhost:8080/"
        },
        "outputId": "2a7912d6-b8bb-4e84-a316-d726d809c0ee"
      },
      "source": [
        "%%time\r\n",
        "from sklearn.metrics import r2_score\r\n",
        "from sklearn import linear_model\r\n",
        "regr_model = linear_model.LinearRegression()\r\n",
        "regr_model.fit(x, y)\r\n",
        "regr_pred = regr_model.predict(test_x)\r\n",
        "regr_model1 = print(mean_absolute_error(test_y, regr_pred))\r\n",
        "r2_score(test_y, regr_pred)\r\n",
        "print('r2 score for perfect model is', r2_score) "
      ],
      "execution_count": 93,
      "outputs": [
        {
          "output_type": "stream",
          "text": [
            "3668.929290229945\n",
            "r2 score for perfect model is <function r2_score at 0x7ff18394d950>\n",
            "CPU times: user 5.16 ms, sys: 0 ns, total: 5.16 ms\n",
            "Wall time: 10.5 ms\n"
          ],
          "name": "stdout"
        }
      ]
    },
    {
      "cell_type": "code",
      "metadata": {
        "colab": {
          "base_uri": "https://localhost:8080/"
        },
        "id": "0qWLhoTTmlYA",
        "outputId": "a35d8982-90eb-409d-d010-59749753e717"
      },
      "source": [
        "#this dict will help us in comparison between models\r\n",
        "model_performance_dict = {\r\n",
        "    \"descision_model1\":\"3369.262972161211\", \r\n",
        "                          \"forest_model1\":\"2846.361829403519\", \r\n",
        "                          \"KNN_model1\":\"3097.423554603854\", \r\n",
        "                          \"regr_model1\":\"3633.482603339038\"\r\n",
        "}\r\n",
        "print(model_performance_dict)"
      ],
      "execution_count": 41,
      "outputs": [
        {
          "output_type": "stream",
          "text": [
            "{'descision_model1': '3369.262972161211', 'forest_model1': '2846.361829403519', 'KNN_model1': '3097.423554603854', 'regr_model1': '3633.482603339038'}\n"
          ],
          "name": "stdout"
        }
      ]
    },
    {
      "cell_type": "code",
      "metadata": {
        "id": "ZcpBi9OhmmYD"
      },
      "source": [
        "#comparison between model \r\n",
        "#preparing data for barplot\r\n",
        "def model_comparison(model_performance_dict, sort_by = 'RMSE', metric = 'RMSE'):\r\n",
        "\r\n",
        "    Rsq_list = []\r\n",
        "    RMSE_list = []\r\n",
        "    MAE_list = []\r\n",
        "    for key in model_performance_dict.keys():\r\n",
        "        Rsq_list.append(model_performance_dict[key][0])\r\n",
        "        RMSE_list.append(model_performance_dict[key][1])\r\n",
        "        MAE_list.append(model_performance_dict[key][2])\r\n",
        "\r\n",
        "    props = pd.DataFrame([])\r\n",
        "\r\n",
        "    props[\"R-squared\"] = Rsq_list\r\n",
        "    props[\"RMSE\"] = RMSE_list\r\n",
        "    props[\"MAE\"] = MAE_list\r\n",
        "    props.index = model_performance_dict.keys()\r\n",
        "    props = props.sort_values(by = sort_by)\r\n",
        "\r\n",
        "    fig, ax = plt.subplots(figsize = (12,6))\r\n",
        "\r\n",
        "    ax.bar(props.index, props[metric], color=\"blue\")\r\n",
        "    plt.title(metric)\r\n",
        "    plt.xlabel('Model')\r\n",
        "    plt.xticks(rotation = 45)\r\n",
        "    plt.ylabel(metric)"
      ],
      "execution_count": 42,
      "outputs": []
    },
    {
      "cell_type": "code",
      "metadata": {
        "id": "KSWkw0W1qKpr",
        "colab": {
          "base_uri": "https://localhost:8080/",
          "height": 465
        },
        "outputId": "e8551558-685f-40f1-f287-84d657bcd24d"
      },
      "source": [
        "model_comparison(model_performance_dict, sort_by = 'R-squared', metric = 'R-squared')"
      ],
      "execution_count": 43,
      "outputs": [
        {
          "output_type": "display_data",
          "data": {
            "image/png": "[encoded data removed]",
            "text/plain": [
              "<Figure size 864x432 with 1 Axes>"
            ]
          },
          "metadata": {
            "tags": [],
            "needs_background": "light"
          }
        }
      ]
    },
    {
      "cell_type": "code",
      "metadata": {
        "colab": {
          "base_uri": "https://localhost:8080/",
          "height": 465
        },
        "id": "uDcXkLiNX77p",
        "outputId": "7557c152-f748-466c-9481-b11697ba2bde"
      },
      "source": [
        "model_comparison(model_performance_dict, sort_by = 'R-squared', metric = 'MAE')"
      ],
      "execution_count": 46,
      "outputs": [
        {
          "output_type": "display_data",
          "data": {
            "image/png": "[encoded data removed]",
            "text/plain": [
              "<Figure size 864x432 with 1 Axes>"
            ]
          },
          "metadata": {
            "tags": [],
            "needs_background": "light"
          }
        }
      ]
    },
    {
      "cell_type": "code",
      "metadata": {
        "colab": {
          "base_uri": "https://localhost:8080/",
          "height": 465
        },
        "id": "SvoBkJcQYE7H",
        "outputId": "2ae193e4-a580-4009-9764-3db346ba3cab"
      },
      "source": [
        "model_comparison(model_performance_dict, sort_by = 'R-squared', metric = 'RMSE')"
      ],
      "execution_count": 45,
      "outputs": [
        {
          "output_type": "display_data",
          "data": {
            "image/png": "[encoded data removed]",
            "text/plain": [
              "<Figure size 864x432 with 1 Axes>"
            ]
          },
          "metadata": {
            "tags": [],
            "needs_background": "light"
          }
        }
      ]
    },
    {
      "cell_type": "markdown",
      "metadata": {
        "id": "1z6bSVDTTl1N"
      },
      "source": [
        "here, i took KNN model "
      ]
    },
    {
      "cell_type": "code",
      "metadata": {
        "colab": {
          "base_uri": "https://localhost:8080/"
        },
        "id": "4opJdoFbR-Am",
        "outputId": "d6b2d18e-3ccf-4b7d-c8e2-ce605ce02d3c"
      },
      "source": [
        "from sklearn.neighbors import KNeighborsClassifier\r\n",
        "# testing accuracy\r\n",
        "k_range = range(1, 26)\r\n",
        "\r\n",
        "# We can create Python dictionary using []\r\n",
        "scores = []\r\n",
        "\r\n",
        "# we use a loop through the range 1 to 26\r\n",
        "# We append the scores in the dictionary\r\n",
        "for k in k_range:\r\n",
        "    knn = KNeighborsClassifier(n_neighbors=k)\r\n",
        "    knn.fit(train_x,train_y)\r\n",
        "    y_pred = knn.predict(test_x)\r\n",
        "    scores.append(metrics.accuracy_score(test_y,y_pred))\r\n",
        "\r\n",
        "print(scores)"
      ],
      "execution_count": 78,
      "outputs": [
        {
          "output_type": "stream",
          "text": [
            "[0.0016059957173447537, 0.0026766595289079227, 0.0016059957173447537, 0.0016059957173447537, 0.0021413276231263384, 0.0021413276231263384, 0.0010706638115631692, 0.0010706638115631692, 0.0010706638115631692, 0.0010706638115631692, 0.0010706638115631692, 0.0010706638115631692, 0.0010706638115631692, 0.0010706638115631692, 0.0005353319057815846, 0.0005353319057815846, 0.0005353319057815846, 0.0005353319057815846, 0.0005353319057815846, 0.0005353319057815846, 0.0005353319057815846, 0.0010706638115631692, 0.0010706638115631692, 0.0010706638115631692, 0.0010706638115631692]\n"
          ],
          "name": "stdout"
        }
      ]
    },
    {
      "cell_type": "code",
      "metadata": {
        "colab": {
          "base_uri": "https://localhost:8080/",
          "height": 296
        },
        "id": "SjBXwIy6Q2eK",
        "outputId": "fc1ade14-9eb5-4421-f029-a84ab8737b5c"
      },
      "source": [
        "# import Matplotlib (scientific plotting library)\r\n",
        "import matplotlib.pyplot as plt\r\n",
        "\r\n",
        "# allow plots to appear within the notebook\r\n",
        "%matplotlib inline\r\n",
        "\r\n",
        "# plot the relationship between K and testing accuracy\r\n",
        "# plt.plot(x_axis, y_axis)\r\n",
        "plt.plot(k_range, scores)\r\n",
        "plt.xlabel('Value of K for KNN')\r\n",
        "plt.ylabel('Testing Accuracy')"
      ],
      "execution_count": 80,
      "outputs": [
        {
          "output_type": "execute_result",
          "data": {
            "text/plain": [
              "Text(0, 0.5, 'Testing Accuracy')"
            ]
          },
          "metadata": {
            "tags": []
          },
          "execution_count": 80
        },
        {
          "output_type": "display_data",
          "data": {
            "image/png": "[encoded data removed]",
            "text/plain": [
              "<Figure size 432x288 with 1 Axes>"
            ]
          },
          "metadata": {
            "tags": [],
            "needs_background": "light"
          }
        }
      ]
    }
  ]
}