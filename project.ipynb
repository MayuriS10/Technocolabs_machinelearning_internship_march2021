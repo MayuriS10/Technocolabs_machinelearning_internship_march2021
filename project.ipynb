{
  "nbformat": 4,
  "nbformat_minor": 0,
  "metadata": {
    "colab": {
      "name": "project.ipynb",
      "provenance": [],
      "collapsed_sections": [],
      "toc_visible": true
    },
    "kernelspec": {
      "name": "python3",
      "display_name": "Python 3"
    }
  },
  "cells": [
    {
      "cell_type": "code",
      "metadata": {
        "id": "u8hq4A6jY0xQ"
      },
      "source": [
        "#importing necessary libraries\n",
        "import pandas as pd \n",
        "import numpy as np\n",
        "import seaborn as sns\n",
        "%matplotlib inline\n",
        "import seaborn as sns\n",
        "import matplotlib.pyplot as plt"
      ],
      "execution_count": null,
      "outputs": []
    },
    {
      "cell_type": "markdown",
      "metadata": {
        "id": "Rf7kJqvGvAoU"
      },
      "source": [
        "#Importing data"
      ]
    },
    {
      "cell_type": "code",
      "metadata": {
        "colab": {
          "base_uri": "https://localhost:8080/",
          "height": 547
        },
        "id": "eSAwDgAVZb2_",
        "outputId": "359c531c-3135-4a81-fef8-fb9a30ca61a8"
      },
      "source": [
        "#importing data\n",
        "Reddit = pd.read_csv(\"/content/Reddit_data.csv\")\n",
        "#getting first 5 rows\n",
        "Reddit.head()"
      ],
      "execution_count": null,
      "outputs": [
        {
          "output_type": "execute_result",
          "data": {
            "text/html": [
              "<div>\n",
              "<style scoped>\n",
              "    .dataframe tbody tr th:only-of-type {\n",
              "        vertical-align: middle;\n",
              "    }\n",
              "\n",
              "    .dataframe tbody tr th {\n",
              "        vertical-align: top;\n",
              "    }\n",
              "\n",
              "    .dataframe thead th {\n",
              "        text-align: right;\n",
              "    }\n",
              "</style>\n",
              "<table border=\"1\" class=\"dataframe\">\n",
              "  <thead>\n",
              "    <tr style=\"text-align: right;\">\n",
              "      <th></th>\n",
              "      <th>Unnamed: 0</th>\n",
              "      <th>body</th>\n",
              "      <th>created_utc</th>\n",
              "      <th>ups</th>\n",
              "      <th>downs</th>\n",
              "      <th>upvote_ratio</th>\n",
              "      <th>score</th>\n",
              "      <th>gilded</th>\n",
              "      <th>over_18</th>\n",
              "      <th>number_of_Comments</th>\n",
              "      <th>author</th>\n",
              "      <th>archived</th>\n",
              "      <th>edited</th>\n",
              "      <th>link_id</th>\n",
              "      <th>url</th>\n",
              "    </tr>\n",
              "  </thead>\n",
              "  <tbody>\n",
              "    <tr>\n",
              "      <th>0</th>\n",
              "      <td>0</td>\n",
              "      <td>The best parts of coming home after a long tri...</td>\n",
              "      <td>1.619603e+09</td>\n",
              "      <td>25691</td>\n",
              "      <td>0</td>\n",
              "      <td>0.95</td>\n",
              "      <td>25691</td>\n",
              "      <td>0</td>\n",
              "      <td>False</td>\n",
              "      <td>459</td>\n",
              "      <td>jp9544</td>\n",
              "      <td>False</td>\n",
              "      <td>False</td>\n",
              "      <td>n0b2db</td>\n",
              "      <td>https://i.redd.it/hpxcd7ecwvv61.jpg</td>\n",
              "    </tr>\n",
              "    <tr>\n",
              "      <th>1</th>\n",
              "      <td>1</td>\n",
              "      <td>What seems harmless but is incredibly dangerous?</td>\n",
              "      <td>1.619551e+09</td>\n",
              "      <td>54168</td>\n",
              "      <td>0</td>\n",
              "      <td>0.92</td>\n",
              "      <td>54168</td>\n",
              "      <td>1</td>\n",
              "      <td>False</td>\n",
              "      <td>26338</td>\n",
              "      <td>Crimtot</td>\n",
              "      <td>False</td>\n",
              "      <td>False</td>\n",
              "      <td>mzwd8x</td>\n",
              "      <td>https://www.reddit.com/r/AskReddit/comments/mz...</td>\n",
              "    </tr>\n",
              "    <tr>\n",
              "      <th>2</th>\n",
              "      <td>2</td>\n",
              "      <td>28 April 1945: Adolf Hitler briefly emerges fr...</td>\n",
              "      <td>1.619599e+09</td>\n",
              "      <td>22730</td>\n",
              "      <td>0</td>\n",
              "      <td>0.97</td>\n",
              "      <td>22730</td>\n",
              "      <td>0</td>\n",
              "      <td>False</td>\n",
              "      <td>1232</td>\n",
              "      <td>Vucea</td>\n",
              "      <td>False</td>\n",
              "      <td>False</td>\n",
              "      <td>n0ad6r</td>\n",
              "      <td>https://i.redd.it/cgd3gs8wmvv61.jpg</td>\n",
              "    </tr>\n",
              "    <tr>\n",
              "      <th>3</th>\n",
              "      <td>3</td>\n",
              "      <td>ELI5: Why can’t you spend dirty money like reg...</td>\n",
              "      <td>1.619542e+09</td>\n",
              "      <td>19549</td>\n",
              "      <td>0</td>\n",
              "      <td>0.92</td>\n",
              "      <td>19549</td>\n",
              "      <td>0</td>\n",
              "      <td>False</td>\n",
              "      <td>4915</td>\n",
              "      <td>courtimus-prime</td>\n",
              "      <td>False</td>\n",
              "      <td>False</td>\n",
              "      <td>mzsrmj</td>\n",
              "      <td>https://www.reddit.com/r/explainlikeimfive/com...</td>\n",
              "    </tr>\n",
              "    <tr>\n",
              "      <th>4</th>\n",
              "      <td>4</td>\n",
              "      <td>please mothre</td>\n",
              "      <td>1.619602e+09</td>\n",
              "      <td>19090</td>\n",
              "      <td>0</td>\n",
              "      <td>0.87</td>\n",
              "      <td>19090</td>\n",
              "      <td>0</td>\n",
              "      <td>False</td>\n",
              "      <td>570</td>\n",
              "      <td>m33gs</td>\n",
              "      <td>False</td>\n",
              "      <td>False</td>\n",
              "      <td>n0b1tb</td>\n",
              "      <td>https://v.redd.it/pdn7pl14wvv61</td>\n",
              "    </tr>\n",
              "  </tbody>\n",
              "</table>\n",
              "</div>"
            ],
            "text/plain": [
              "   Unnamed: 0  ...                                                url\n",
              "0           0  ...                https://i.redd.it/hpxcd7ecwvv61.jpg\n",
              "1           1  ...  https://www.reddit.com/r/AskReddit/comments/mz...\n",
              "2           2  ...                https://i.redd.it/cgd3gs8wmvv61.jpg\n",
              "3           3  ...  https://www.reddit.com/r/explainlikeimfive/com...\n",
              "4           4  ...                    https://v.redd.it/pdn7pl14wvv61\n",
              "\n",
              "[5 rows x 15 columns]"
            ]
          },
          "metadata": {
            "tags": []
          },
          "execution_count": 13
        }
      ]
    },
    {
      "cell_type": "markdown",
      "metadata": {
        "id": "ZAwwac1yv2zM"
      },
      "source": [
        "#Exploring the data"
      ]
    },
    {
      "cell_type": "code",
      "metadata": {
        "colab": {
          "base_uri": "https://localhost:8080/"
        },
        "id": "ytZdXHAhwkt6",
        "outputId": "a53e1269-130e-4f41-b638-7b7a4372beca"
      },
      "source": [
        "Reddit.columns"
      ],
      "execution_count": null,
      "outputs": [
        {
          "output_type": "execute_result",
          "data": {
            "text/plain": [
              "Index(['Unnamed: 0', 'body', 'created_utc', 'ups', 'downs', 'upvote_ratio',\n",
              "       'score', 'gilded', 'over_18', 'number_of_Comments', 'author',\n",
              "       'archived', 'edited', 'link_id', 'url'],\n",
              "      dtype='object')"
            ]
          },
          "metadata": {
            "tags": []
          },
          "execution_count": 15
        }
      ]
    },
    {
      "cell_type": "code",
      "metadata": {
        "id": "zl9aVM_7woDN"
      },
      "source": [
        "Reddit.drop(['Unnamed: 0'], axis=1, inplace=True)"
      ],
      "execution_count": null,
      "outputs": []
    },
    {
      "cell_type": "code",
      "metadata": {
        "colab": {
          "base_uri": "https://localhost:8080/",
          "height": 360
        },
        "id": "AMz8RFb7w-oK",
        "outputId": "82f252e9-6967-48e3-9987-d04fda054af7"
      },
      "source": [
        "Reddit.tail()"
      ],
      "execution_count": null,
      "outputs": [
        {
          "output_type": "execute_result",
          "data": {
            "text/html": [
              "<div>\n",
              "<style scoped>\n",
              "    .dataframe tbody tr th:only-of-type {\n",
              "        vertical-align: middle;\n",
              "    }\n",
              "\n",
              "    .dataframe tbody tr th {\n",
              "        vertical-align: top;\n",
              "    }\n",
              "\n",
              "    .dataframe thead th {\n",
              "        text-align: right;\n",
              "    }\n",
              "</style>\n",
              "<table border=\"1\" class=\"dataframe\">\n",
              "  <thead>\n",
              "    <tr style=\"text-align: right;\">\n",
              "      <th></th>\n",
              "      <th>body</th>\n",
              "      <th>created_utc</th>\n",
              "      <th>ups</th>\n",
              "      <th>downs</th>\n",
              "      <th>upvote_ratio</th>\n",
              "      <th>score</th>\n",
              "      <th>gilded</th>\n",
              "      <th>over_18</th>\n",
              "      <th>number_of_Comments</th>\n",
              "      <th>author</th>\n",
              "      <th>archived</th>\n",
              "      <th>edited</th>\n",
              "      <th>link_id</th>\n",
              "      <th>url</th>\n",
              "    </tr>\n",
              "  </thead>\n",
              "  <tbody>\n",
              "    <tr>\n",
              "      <th>7363</th>\n",
              "      <td>*cries in quadratic formula*....No seriously, ...</td>\n",
              "      <td>1.619608e+09</td>\n",
              "      <td>77</td>\n",
              "      <td>0</td>\n",
              "      <td>0.89</td>\n",
              "      <td>77</td>\n",
              "      <td>0</td>\n",
              "      <td>False</td>\n",
              "      <td>6</td>\n",
              "      <td>Stripe73</td>\n",
              "      <td>False</td>\n",
              "      <td>False</td>\n",
              "      <td>n0c868</td>\n",
              "      <td>https://i.redd.it/7hqu5b34bwv61.png</td>\n",
              "    </tr>\n",
              "    <tr>\n",
              "      <th>7364</th>\n",
              "      <td>True Dat</td>\n",
              "      <td>1.619614e+09</td>\n",
              "      <td>75</td>\n",
              "      <td>0</td>\n",
              "      <td>0.96</td>\n",
              "      <td>75</td>\n",
              "      <td>0</td>\n",
              "      <td>False</td>\n",
              "      <td>5</td>\n",
              "      <td>SenTry_WarLock11</td>\n",
              "      <td>False</td>\n",
              "      <td>False</td>\n",
              "      <td>n0e4ay</td>\n",
              "      <td>https://i.redd.it/es6b492hvwv61.jpg</td>\n",
              "    </tr>\n",
              "    <tr>\n",
              "      <th>7365</th>\n",
              "      <td>Don’t worry guys she’ll be back with the milk ...</td>\n",
              "      <td>1.619606e+09</td>\n",
              "      <td>83</td>\n",
              "      <td>0</td>\n",
              "      <td>0.97</td>\n",
              "      <td>83</td>\n",
              "      <td>0</td>\n",
              "      <td>False</td>\n",
              "      <td>4</td>\n",
              "      <td>SkyBeres</td>\n",
              "      <td>False</td>\n",
              "      <td>False</td>\n",
              "      <td>n0bsh0</td>\n",
              "      <td>https://i.redd.it/olhxc2ki5wv61.jpg</td>\n",
              "    </tr>\n",
              "    <tr>\n",
              "      <th>7366</th>\n",
              "      <td>Literally 17y/o me</td>\n",
              "      <td>1.619611e+09</td>\n",
              "      <td>64</td>\n",
              "      <td>0</td>\n",
              "      <td>0.97</td>\n",
              "      <td>64</td>\n",
              "      <td>0</td>\n",
              "      <td>False</td>\n",
              "      <td>5</td>\n",
              "      <td>TahsinTheBangladeshi</td>\n",
              "      <td>False</td>\n",
              "      <td>False</td>\n",
              "      <td>n0d2ka</td>\n",
              "      <td>https://i.redd.it/8hrpcgzqkwv61.jpg</td>\n",
              "    </tr>\n",
              "    <tr>\n",
              "      <th>7367</th>\n",
              "      <td>Enemy in the AO!</td>\n",
              "      <td>1.619612e+09</td>\n",
              "      <td>59</td>\n",
              "      <td>0</td>\n",
              "      <td>0.95</td>\n",
              "      <td>59</td>\n",
              "      <td>0</td>\n",
              "      <td>False</td>\n",
              "      <td>2</td>\n",
              "      <td>lebrian</td>\n",
              "      <td>False</td>\n",
              "      <td>False</td>\n",
              "      <td>n0djo3</td>\n",
              "      <td>https://i.redd.it/s6cdoxhopwv61.jpg</td>\n",
              "    </tr>\n",
              "  </tbody>\n",
              "</table>\n",
              "</div>"
            ],
            "text/plain": [
              "                                                   body  ...                                  url\n",
              "7363  *cries in quadratic formula*....No seriously, ...  ...  https://i.redd.it/7hqu5b34bwv61.png\n",
              "7364                                           True Dat  ...  https://i.redd.it/es6b492hvwv61.jpg\n",
              "7365  Don’t worry guys she’ll be back with the milk ...  ...  https://i.redd.it/olhxc2ki5wv61.jpg\n",
              "7366                                 Literally 17y/o me  ...  https://i.redd.it/8hrpcgzqkwv61.jpg\n",
              "7367                                   Enemy in the AO!  ...  https://i.redd.it/s6cdoxhopwv61.jpg\n",
              "\n",
              "[5 rows x 14 columns]"
            ]
          },
          "metadata": {
            "tags": []
          },
          "execution_count": 19
        }
      ]
    },
    {
      "cell_type": "code",
      "metadata": {
        "colab": {
          "base_uri": "https://localhost:8080/",
          "height": 297
        },
        "id": "VItpjEeiwCE7",
        "outputId": "ead891fe-3b5c-42a4-a9f6-bfb432179764"
      },
      "source": [
        "Reddit.describe()"
      ],
      "execution_count": null,
      "outputs": [
        {
          "output_type": "execute_result",
          "data": {
            "text/html": [
              "<div>\n",
              "<style scoped>\n",
              "    .dataframe tbody tr th:only-of-type {\n",
              "        vertical-align: middle;\n",
              "    }\n",
              "\n",
              "    .dataframe tbody tr th {\n",
              "        vertical-align: top;\n",
              "    }\n",
              "\n",
              "    .dataframe thead th {\n",
              "        text-align: right;\n",
              "    }\n",
              "</style>\n",
              "<table border=\"1\" class=\"dataframe\">\n",
              "  <thead>\n",
              "    <tr style=\"text-align: right;\">\n",
              "      <th></th>\n",
              "      <th>created_utc</th>\n",
              "      <th>ups</th>\n",
              "      <th>downs</th>\n",
              "      <th>upvote_ratio</th>\n",
              "      <th>score</th>\n",
              "      <th>gilded</th>\n",
              "      <th>number_of_Comments</th>\n",
              "    </tr>\n",
              "  </thead>\n",
              "  <tbody>\n",
              "    <tr>\n",
              "      <th>count</th>\n",
              "      <td>7.368000e+03</td>\n",
              "      <td>7368.000000</td>\n",
              "      <td>7368.0</td>\n",
              "      <td>7368.000000</td>\n",
              "      <td>7368.000000</td>\n",
              "      <td>7368.000000</td>\n",
              "      <td>7368.000000</td>\n",
              "    </tr>\n",
              "    <tr>\n",
              "      <th>mean</th>\n",
              "      <td>1.619581e+09</td>\n",
              "      <td>3207.049946</td>\n",
              "      <td>0.0</td>\n",
              "      <td>0.970228</td>\n",
              "      <td>3207.049946</td>\n",
              "      <td>0.043567</td>\n",
              "      <td>87.830619</td>\n",
              "    </tr>\n",
              "    <tr>\n",
              "      <th>std</th>\n",
              "      <td>2.181565e+04</td>\n",
              "      <td>8364.217594</td>\n",
              "      <td>0.0</td>\n",
              "      <td>0.033743</td>\n",
              "      <td>8364.217594</td>\n",
              "      <td>0.275957</td>\n",
              "      <td>391.696711</td>\n",
              "    </tr>\n",
              "    <tr>\n",
              "      <th>min</th>\n",
              "      <td>1.619530e+09</td>\n",
              "      <td>56.000000</td>\n",
              "      <td>0.0</td>\n",
              "      <td>0.620000</td>\n",
              "      <td>56.000000</td>\n",
              "      <td>0.000000</td>\n",
              "      <td>0.000000</td>\n",
              "    </tr>\n",
              "    <tr>\n",
              "      <th>25%</th>\n",
              "      <td>1.619565e+09</td>\n",
              "      <td>250.000000</td>\n",
              "      <td>0.0</td>\n",
              "      <td>0.960000</td>\n",
              "      <td>250.000000</td>\n",
              "      <td>0.000000</td>\n",
              "      <td>10.000000</td>\n",
              "    </tr>\n",
              "    <tr>\n",
              "      <th>50%</th>\n",
              "      <td>1.619585e+09</td>\n",
              "      <td>674.500000</td>\n",
              "      <td>0.0</td>\n",
              "      <td>0.980000</td>\n",
              "      <td>674.500000</td>\n",
              "      <td>0.000000</td>\n",
              "      <td>25.000000</td>\n",
              "    </tr>\n",
              "    <tr>\n",
              "      <th>75%</th>\n",
              "      <td>1.619600e+09</td>\n",
              "      <td>2322.500000</td>\n",
              "      <td>0.0</td>\n",
              "      <td>0.990000</td>\n",
              "      <td>2322.500000</td>\n",
              "      <td>0.000000</td>\n",
              "      <td>71.000000</td>\n",
              "    </tr>\n",
              "    <tr>\n",
              "      <th>max</th>\n",
              "      <td>1.619615e+09</td>\n",
              "      <td>141697.000000</td>\n",
              "      <td>0.0</td>\n",
              "      <td>1.000000</td>\n",
              "      <td>141697.000000</td>\n",
              "      <td>8.000000</td>\n",
              "      <td>26338.000000</td>\n",
              "    </tr>\n",
              "  </tbody>\n",
              "</table>\n",
              "</div>"
            ],
            "text/plain": [
              "        created_utc            ups  ...       gilded  number_of_Comments\n",
              "count  7.368000e+03    7368.000000  ...  7368.000000         7368.000000\n",
              "mean   1.619581e+09    3207.049946  ...     0.043567           87.830619\n",
              "std    2.181565e+04    8364.217594  ...     0.275957          391.696711\n",
              "min    1.619530e+09      56.000000  ...     0.000000            0.000000\n",
              "25%    1.619565e+09     250.000000  ...     0.000000           10.000000\n",
              "50%    1.619585e+09     674.500000  ...     0.000000           25.000000\n",
              "75%    1.619600e+09    2322.500000  ...     0.000000           71.000000\n",
              "max    1.619615e+09  141697.000000  ...     8.000000        26338.000000\n",
              "\n",
              "[8 rows x 7 columns]"
            ]
          },
          "metadata": {
            "tags": []
          },
          "execution_count": 10
        }
      ]
    },
    {
      "cell_type": "markdown",
      "metadata": {
        "id": "7nEL52km239d"
      },
      "source": [
        "#Missing values"
      ]
    },
    {
      "cell_type": "code",
      "metadata": {
        "colab": {
          "base_uri": "https://localhost:8080/"
        },
        "id": "EWnOFXFHaSfk",
        "outputId": "430c366d-69aa-4293-ede2-9fee4d7b77a1"
      },
      "source": [
        "Reddit.isnull().sum()"
      ],
      "execution_count": null,
      "outputs": [
        {
          "output_type": "execute_result",
          "data": {
            "text/plain": [
              "body                  0\n",
              "created_utc           0\n",
              "ups                   0\n",
              "downs                 0\n",
              "upvote_ratio          0\n",
              "score                 0\n",
              "gilded                0\n",
              "over_18               0\n",
              "number_of_Comments    0\n",
              "author                1\n",
              "archived              0\n",
              "edited                0\n",
              "link_id               0\n",
              "url                   0\n",
              "dtype: int64"
            ]
          },
          "metadata": {
            "tags": []
          },
          "execution_count": 21
        }
      ]
    },
    {
      "cell_type": "code",
      "metadata": {
        "id": "g3T5_Y9txrjH"
      },
      "source": [
        "Reddit.drop(['author'], axis=1, inplace=True)"
      ],
      "execution_count": null,
      "outputs": []
    },
    {
      "cell_type": "code",
      "metadata": {
        "id": "UbNEU2UhIy9g"
      },
      "source": [
        "Reddit.drop(['body'], axis=1, inplace=True)"
      ],
      "execution_count": null,
      "outputs": []
    },
    {
      "cell_type": "code",
      "metadata": {
        "id": "7BJ9krOAI9oy"
      },
      "source": [
        "Reddit.drop(['over_18'], axis=1, inplace=True)"
      ],
      "execution_count": null,
      "outputs": []
    },
    {
      "cell_type": "code",
      "metadata": {
        "id": "9LIc0B_t3J_u"
      },
      "source": [
        "#Exploring each variable "
      ],
      "execution_count": null,
      "outputs": []
    },
    {
      "cell_type": "code",
      "metadata": {
        "colab": {
          "base_uri": "https://localhost:8080/"
        },
        "id": "AvqMkmrd1kAT",
        "outputId": "3c1fe28d-5e26-443e-85a0-0895195c825f"
      },
      "source": [
        "Reddit['gilded'].value_counts()"
      ],
      "execution_count": null,
      "outputs": [
        {
          "output_type": "execute_result",
          "data": {
            "text/plain": [
              "0    7112\n",
              "1     216\n",
              "2      30\n",
              "3       5\n",
              "5       2\n",
              "8       2\n",
              "4       1\n",
              "Name: gilded, dtype: int64"
            ]
          },
          "metadata": {
            "tags": []
          },
          "execution_count": 26
        }
      ]
    },
    {
      "cell_type": "code",
      "metadata": {
        "colab": {
          "base_uri": "https://localhost:8080/"
        },
        "id": "3xsmnl3K3VM4",
        "outputId": "2fcfd07c-c6a9-4489-cecd-e3ba1be2803d"
      },
      "source": [
        "Reddit['over_18'].value_counts()"
      ],
      "execution_count": null,
      "outputs": [
        {
          "output_type": "execute_result",
          "data": {
            "text/plain": [
              "False    7290\n",
              "True       78\n",
              "Name: over_18, dtype: int64"
            ]
          },
          "metadata": {
            "tags": []
          },
          "execution_count": 27
        }
      ]
    },
    {
      "cell_type": "code",
      "metadata": {
        "colab": {
          "base_uri": "https://localhost:8080/"
        },
        "id": "FZ71ttRW4C3k",
        "outputId": "5e508d3e-afe0-4281-a865-c48a7555263e"
      },
      "source": [
        "Reddit['link_id'].value_counts().head()"
      ],
      "execution_count": null,
      "outputs": [
        {
          "output_type": "execute_result",
          "data": {
            "text/plain": [
              "n0a7h6    1\n",
              "n06a51    1\n",
              "mzvcve    1\n",
              "n03cz9    1\n",
              "n0cnvm    1\n",
              "Name: link_id, dtype: int64"
            ]
          },
          "metadata": {
            "tags": []
          },
          "execution_count": 28
        }
      ]
    },
    {
      "cell_type": "code",
      "metadata": {
        "id": "tS1IsO7D4Om7"
      },
      "source": [
        "#Convert created_utc to datetime\n",
        "from datetime import datetime\n",
        "Reddit[\"created_utc\"] = pd.to_datetime(Reddit['created_utc'], unit='s')"
      ],
      "execution_count": null,
      "outputs": []
    },
    {
      "cell_type": "code",
      "metadata": {
        "id": "D4LODkrj4xS3"
      },
      "source": [
        "#Preliminaries"
      ],
      "execution_count": null,
      "outputs": []
    },
    {
      "cell_type": "code",
      "metadata": {
        "id": "cZKX1ARK4pHg",
        "colab": {
          "base_uri": "https://localhost:8080/"
        },
        "outputId": "9603ac36-7335-4030-db57-a12ece68b0c4"
      },
      "source": [
        "print( \"Upvotes mean: %0.2f\" % (np.mean(Reddit['ups'])))\n",
        "print( \"Upvotes median: %0.2f\" % (np.median(Reddit['ups'])))\n",
        "print( \"Upvotes standard deviation: %0.2f\" % (np.std(Reddit['ups'])))"
      ],
      "execution_count": null,
      "outputs": [
        {
          "output_type": "stream",
          "text": [
            "Upvotes mean: 3207.05\n",
            "Upvotes median: 674.50\n",
            "Upvotes standard deviation: 8363.65\n"
          ],
          "name": "stdout"
        }
      ]
    },
    {
      "cell_type": "code",
      "metadata": {
        "id": "TVlMJKqJ5LSM",
        "colab": {
          "base_uri": "https://localhost:8080/"
        },
        "outputId": "c6ca15a5-4ad8-4c62-ab13-9c2dfa053270"
      },
      "source": [
        "print( \"Gilded mean: %0.2f\" % (np.mean(Reddit['gilded'])))\n",
        "print( \"Gilded median: %0.2f\" % (np.median(Reddit['gilded'])))\n",
        "print( \"Gilded standard deviation: %0.2f\" % (np.std(Reddit['gilded'])))"
      ],
      "execution_count": null,
      "outputs": [
        {
          "output_type": "stream",
          "text": [
            "Gilded mean: 0.04\n",
            "Gilded median: 0.00\n",
            "Gilded standard deviation: 0.28\n"
          ],
          "name": "stdout"
        }
      ]
    },
    {
      "cell_type": "markdown",
      "metadata": {
        "id": "ITT8uITt5pYo"
      },
      "source": [
        "#Visualisation"
      ]
    },
    {
      "cell_type": "code",
      "metadata": {
        "colab": {
          "base_uri": "https://localhost:8080/",
          "height": 294
        },
        "id": "sQr2CS6D6o3v",
        "outputId": "5ab7171e-1dd4-4481-ba28-ece3e2221dfc"
      },
      "source": [
        "sns.set_style(\"darkgrid\")\n",
        "sns.set_context(\"paper\")\n",
        "Reddit['character_count'] = Reddit['body'].map(lambda x : len(x))\n",
        "plt.hist(Reddit['character_count'], bins=np.arange(1,1000,5), alpha=0.1, label=\"Character Lengths\");\n",
        "plt.title('Comment Lengths');\n",
        "plt.xlabel('Characters');\n",
        "plt.ylabel('Occurences');\n",
        "plt.grid(False);"
      ],
      "execution_count": null,
      "outputs": [
        {
          "output_type": "display_data",
          "data": {
            "image/png": "[encoded data removed]",
            "text/plain": [
              "<Figure size 432x288 with 1 Axes>"
            ]
          },
          "metadata": {
            "tags": []
          }
        }
      ]
    },
    {
      "cell_type": "code",
      "metadata": {
        "colab": {
          "base_uri": "https://localhost:8080/",
          "height": 321
        },
        "id": "7Myk6bgM8AxZ",
        "outputId": "6bc61bd7-205b-4426-f90f-75ba11f1c287"
      },
      "source": [
        "plt.scatter(Reddit['created_utc'], Reddit['ups']);\n",
        "plt.title('Time and Upvotes');\n",
        "plt.xlabel('Time (UTC)');\n",
        "plt.xticks(rotation = 50)\n",
        "plt.ylabel('Upvotes');\n",
        "plt.ylim(ymin=-0.2);\n",
        "ax = plt.gca();\n",
        "ax.xaxis.grid(False)"
      ],
      "execution_count": null,
      "outputs": [
        {
          "output_type": "display_data",
          "data": {
            "image/png": "[encoded data removed]",
            "text/plain": [
              "<Figure size 432x288 with 1 Axes>"
            ]
          },
          "metadata": {
            "tags": []
          }
        }
      ]
    },
    {
      "cell_type": "code",
      "metadata": {
        "colab": {
          "base_uri": "https://localhost:8080/",
          "height": 294
        },
        "id": "EniMjyhB5y4o",
        "outputId": "5ca47e8a-31d5-426e-c65d-630968cbb0b1"
      },
      "source": [
        "plt.scatter(Reddit['character_count'], Reddit['ups'], alpha=0.5);\n",
        "plt.ylim(ymin=-0.2);\n",
        "plt.xlim(xmin=-0.2);\n",
        "plt.title('Characters in a Comment and Upvotes');\n",
        "plt.xlabel('Characters');\n",
        "plt.ylabel('Upvotes');\n",
        "plt.grid(False)"
      ],
      "execution_count": null,
      "outputs": [
        {
          "output_type": "display_data",
          "data": {
            "image/png": "[encoded data removed]",
            "text/plain": [
              "<Figure size 432x288 with 1 Axes>"
            ]
          },
          "metadata": {
            "tags": []
          }
        }
      ]
    },
    {
      "cell_type": "markdown",
      "metadata": {
        "id": "KcjI8TmnBrUd"
      },
      "source": [
        "# Data preprocessing"
      ]
    },
    {
      "cell_type": "code",
      "metadata": {
        "colab": {
          "base_uri": "https://localhost:8080/"
        },
        "id": "Jjo0yEBv_SEw",
        "outputId": "0a73575c-441a-4a47-9a81-a4065a8bce3f"
      },
      "source": [
        "! pip install vaderSentiment"
      ],
      "execution_count": null,
      "outputs": [
        {
          "output_type": "stream",
          "text": [
            "Collecting vaderSentiment\n",
            "\u001b[?25l  Downloading https://files.pythonhosted.org/packages/76/fc/310e16254683c1ed35eeb97386986d6c00bc29df17ce280aed64d55537e9/vaderSentiment-3.3.2-py2.py3-none-any.whl (125kB)\n",
            "\r\u001b[K     |██▋                             | 10kB 15.6MB/s eta 0:00:01\r\u001b[K     |█████▏                          | 20kB 16.0MB/s eta 0:00:01\r\u001b[K     |███████▉                        | 30kB 10.0MB/s eta 0:00:01\r\u001b[K     |██████████▍                     | 40kB 8.7MB/s eta 0:00:01\r\u001b[K     |█████████████                   | 51kB 7.4MB/s eta 0:00:01\r\u001b[K     |███████████████▋                | 61kB 7.1MB/s eta 0:00:01\r\u001b[K     |██████████████████▏             | 71kB 8.0MB/s eta 0:00:01\r\u001b[K     |████████████████████▉           | 81kB 7.4MB/s eta 0:00:01\r\u001b[K     |███████████████████████▍        | 92kB 7.3MB/s eta 0:00:01\r\u001b[K     |██████████████████████████      | 102kB 7.0MB/s eta 0:00:01\r\u001b[K     |████████████████████████████▋   | 112kB 7.0MB/s eta 0:00:01\r\u001b[K     |███████████████████████████████▏| 122kB 7.0MB/s eta 0:00:01\r\u001b[K     |████████████████████████████████| 133kB 7.0MB/s \n",
            "\u001b[?25hRequirement already satisfied: requests in /usr/local/lib/python3.7/dist-packages (from vaderSentiment) (2.23.0)\n",
            "Requirement already satisfied: idna<3,>=2.5 in /usr/local/lib/python3.7/dist-packages (from requests->vaderSentiment) (2.10)\n",
            "Requirement already satisfied: urllib3!=1.25.0,!=1.25.1,<1.26,>=1.21.1 in /usr/local/lib/python3.7/dist-packages (from requests->vaderSentiment) (1.24.3)\n",
            "Requirement already satisfied: certifi>=2017.4.17 in /usr/local/lib/python3.7/dist-packages (from requests->vaderSentiment) (2020.12.5)\n",
            "Requirement already satisfied: chardet<4,>=3.0.2 in /usr/local/lib/python3.7/dist-packages (from requests->vaderSentiment) (3.0.4)\n",
            "Installing collected packages: vaderSentiment\n",
            "Successfully installed vaderSentiment-3.3.2\n"
          ],
          "name": "stdout"
        }
      ]
    },
    {
      "cell_type": "code",
      "metadata": {
        "id": "98xHwqwl_O-6"
      },
      "source": [
        "import nltk\n",
        "from nltk.corpus import stopwords\n",
        "from wordcloud import WordCloud, STOPWORDS\n",
        "from vaderSentiment.vaderSentiment import SentimentIntensityAnalyzer"
      ],
      "execution_count": null,
      "outputs": []
    },
    {
      "cell_type": "code",
      "metadata": {
        "colab": {
          "base_uri": "https://localhost:8080/"
        },
        "id": "S_AqGQ09_q5u",
        "outputId": "ee7ad46a-b75f-4d15-eab1-bffaddd8957e"
      },
      "source": [
        "! pip install nltk"
      ],
      "execution_count": null,
      "outputs": [
        {
          "output_type": "stream",
          "text": [
            "Requirement already satisfied: nltk in /usr/local/lib/python3.7/dist-packages (3.2.5)\n",
            "Requirement already satisfied: six in /usr/local/lib/python3.7/dist-packages (from nltk) (1.15.0)\n"
          ],
          "name": "stdout"
        }
      ]
    },
    {
      "cell_type": "code",
      "metadata": {
        "colab": {
          "base_uri": "https://localhost:8080/"
        },
        "id": "-zPEyuZqBJsH",
        "outputId": "86705e57-6c71-4cc3-d8c8-95dc654e0bd2"
      },
      "source": [
        "import nltk\n",
        "nltk.download('wordnet')"
      ],
      "execution_count": null,
      "outputs": [
        {
          "output_type": "stream",
          "text": [
            "[nltk_data] Downloading package wordnet to /root/nltk_data...\n",
            "[nltk_data]   Unzipping corpora/wordnet.zip.\n"
          ],
          "name": "stdout"
        },
        {
          "output_type": "execute_result",
          "data": {
            "text/plain": [
              "True"
            ]
          },
          "metadata": {
            "tags": []
          },
          "execution_count": 58
        }
      ]
    },
    {
      "cell_type": "code",
      "metadata": {
        "id": "THogjAMs-2JP"
      },
      "source": [
        "from sklearn.feature_extraction.text import ENGLISH_STOP_WORDS\n",
        "import re\n",
        "import nltk\n",
        "from nltk.stem import WordNetLemmatizer,PorterStemmer\n",
        "lemmatizer = WordNetLemmatizer()\n",
        "stemmer = PorterStemmer()\n",
        "\n",
        "def text_preprocess(text):\n",
        "    text = re.sub(r'[^\\w\\s]', '', text) \n",
        "    l_text = [word for word in text.lower().split() if word not in ENGLISH_STOP_WORDS]\n",
        "    stem_words = [stemmer.stem(w) for w in l_text]\n",
        "    lemma_words = [lemmatizer.lemmatize(w) for w in l_text]\n",
        "\n",
        "    return \" \".join(lemma_words)\n",
        "\n",
        "Reddit['body'] = Reddit['body'].map(lambda com : text_preprocess(com))"
      ],
      "execution_count": null,
      "outputs": []
    },
    {
      "cell_type": "code",
      "metadata": {
        "colab": {
          "base_uri": "https://localhost:8080/",
          "height": 520
        },
        "id": "hk4s56XvBflE",
        "outputId": "cb4bede3-5f8d-428e-c9ec-53d75d278928"
      },
      "source": [
        "Reddit.head().T"
      ],
      "execution_count": null,
      "outputs": [
        {
          "output_type": "execute_result",
          "data": {
            "text/html": [
              "<div>\n",
              "<style scoped>\n",
              "    .dataframe tbody tr th:only-of-type {\n",
              "        vertical-align: middle;\n",
              "    }\n",
              "\n",
              "    .dataframe tbody tr th {\n",
              "        vertical-align: top;\n",
              "    }\n",
              "\n",
              "    .dataframe thead th {\n",
              "        text-align: right;\n",
              "    }\n",
              "</style>\n",
              "<table border=\"1\" class=\"dataframe\">\n",
              "  <thead>\n",
              "    <tr style=\"text-align: right;\">\n",
              "      <th></th>\n",
              "      <th>0</th>\n",
              "      <th>1</th>\n",
              "      <th>2</th>\n",
              "      <th>3</th>\n",
              "      <th>4</th>\n",
              "    </tr>\n",
              "  </thead>\n",
              "  <tbody>\n",
              "    <tr>\n",
              "      <th>body</th>\n",
              "      <td>best part coming home long trip starter pack</td>\n",
              "      <td>harmless incredibly dangerous</td>\n",
              "      <td>28 april 1945 adolf hitler briefly emerges bun...</td>\n",
              "      <td>eli5 spend dirty money like regular untraceabl...</td>\n",
              "      <td>mothre</td>\n",
              "    </tr>\n",
              "    <tr>\n",
              "      <th>created_utc</th>\n",
              "      <td>2021-04-28 09:35:50</td>\n",
              "      <td>2021-04-27 19:23:51</td>\n",
              "      <td>2021-04-28 08:42:44</td>\n",
              "      <td>2021-04-27 16:47:05</td>\n",
              "      <td>2021-04-28 09:34:42</td>\n",
              "    </tr>\n",
              "    <tr>\n",
              "      <th>ups</th>\n",
              "      <td>25691</td>\n",
              "      <td>54168</td>\n",
              "      <td>22730</td>\n",
              "      <td>19549</td>\n",
              "      <td>19090</td>\n",
              "    </tr>\n",
              "    <tr>\n",
              "      <th>downs</th>\n",
              "      <td>0</td>\n",
              "      <td>0</td>\n",
              "      <td>0</td>\n",
              "      <td>0</td>\n",
              "      <td>0</td>\n",
              "    </tr>\n",
              "    <tr>\n",
              "      <th>upvote_ratio</th>\n",
              "      <td>0.95</td>\n",
              "      <td>0.92</td>\n",
              "      <td>0.97</td>\n",
              "      <td>0.92</td>\n",
              "      <td>0.87</td>\n",
              "    </tr>\n",
              "    <tr>\n",
              "      <th>score</th>\n",
              "      <td>25691</td>\n",
              "      <td>54168</td>\n",
              "      <td>22730</td>\n",
              "      <td>19549</td>\n",
              "      <td>19090</td>\n",
              "    </tr>\n",
              "    <tr>\n",
              "      <th>gilded</th>\n",
              "      <td>0</td>\n",
              "      <td>1</td>\n",
              "      <td>0</td>\n",
              "      <td>0</td>\n",
              "      <td>0</td>\n",
              "    </tr>\n",
              "    <tr>\n",
              "      <th>over_18</th>\n",
              "      <td>False</td>\n",
              "      <td>False</td>\n",
              "      <td>False</td>\n",
              "      <td>False</td>\n",
              "      <td>False</td>\n",
              "    </tr>\n",
              "    <tr>\n",
              "      <th>number_of_Comments</th>\n",
              "      <td>459</td>\n",
              "      <td>26338</td>\n",
              "      <td>1232</td>\n",
              "      <td>4915</td>\n",
              "      <td>570</td>\n",
              "    </tr>\n",
              "    <tr>\n",
              "      <th>archived</th>\n",
              "      <td>False</td>\n",
              "      <td>False</td>\n",
              "      <td>False</td>\n",
              "      <td>False</td>\n",
              "      <td>False</td>\n",
              "    </tr>\n",
              "    <tr>\n",
              "      <th>edited</th>\n",
              "      <td>False</td>\n",
              "      <td>False</td>\n",
              "      <td>False</td>\n",
              "      <td>False</td>\n",
              "      <td>False</td>\n",
              "    </tr>\n",
              "    <tr>\n",
              "      <th>link_id</th>\n",
              "      <td>n0b2db</td>\n",
              "      <td>mzwd8x</td>\n",
              "      <td>n0ad6r</td>\n",
              "      <td>mzsrmj</td>\n",
              "      <td>n0b1tb</td>\n",
              "    </tr>\n",
              "    <tr>\n",
              "      <th>url</th>\n",
              "      <td>https://i.redd.it/hpxcd7ecwvv61.jpg</td>\n",
              "      <td>https://www.reddit.com/r/AskReddit/comments/mz...</td>\n",
              "      <td>https://i.redd.it/cgd3gs8wmvv61.jpg</td>\n",
              "      <td>https://www.reddit.com/r/explainlikeimfive/com...</td>\n",
              "      <td>https://v.redd.it/pdn7pl14wvv61</td>\n",
              "    </tr>\n",
              "    <tr>\n",
              "      <th>character_count</th>\n",
              "      <td>60</td>\n",
              "      <td>48</td>\n",
              "      <td>199</td>\n",
              "      <td>109</td>\n",
              "      <td>13</td>\n",
              "    </tr>\n",
              "  </tbody>\n",
              "</table>\n",
              "</div>"
            ],
            "text/plain": [
              "                                                               0  ...                                4\n",
              "body                best part coming home long trip starter pack  ...                           mothre\n",
              "created_utc                                  2021-04-28 09:35:50  ...              2021-04-28 09:34:42\n",
              "ups                                                        25691  ...                            19090\n",
              "downs                                                          0  ...                                0\n",
              "upvote_ratio                                                0.95  ...                             0.87\n",
              "score                                                      25691  ...                            19090\n",
              "gilded                                                         0  ...                                0\n",
              "over_18                                                    False  ...                            False\n",
              "number_of_Comments                                           459  ...                              570\n",
              "archived                                                   False  ...                            False\n",
              "edited                                                     False  ...                            False\n",
              "link_id                                                   n0b2db  ...                           n0b1tb\n",
              "url                          https://i.redd.it/hpxcd7ecwvv61.jpg  ...  https://v.redd.it/pdn7pl14wvv61\n",
              "character_count                                               60  ...                               13\n",
              "\n",
              "[14 rows x 5 columns]"
            ]
          },
          "metadata": {
            "tags": []
          },
          "execution_count": 60
        }
      ]
    },
    {
      "cell_type": "code",
      "metadata": {
        "id": "87Fof7S7HPDE"
      },
      "source": [
        "Reddit.drop(['created_utc','ups','archived','edited','link_id','url','character_count'], axis=1, inplace=True)"
      ],
      "execution_count": null,
      "outputs": []
    },
    {
      "cell_type": "code",
      "metadata": {
        "colab": {
          "base_uri": "https://localhost:8080/"
        },
        "id": "BmKp9XztHp_C",
        "outputId": "b5b6b4ba-b187-4bd6-8214-a592bd9e6fc0"
      },
      "source": [
        "Reddit.columns"
      ],
      "execution_count": null,
      "outputs": [
        {
          "output_type": "execute_result",
          "data": {
            "text/plain": [
              "Index(['downs', 'upvote_ratio', 'score', 'gilded', 'number_of_Comments'], dtype='object')"
            ]
          },
          "metadata": {
            "tags": []
          },
          "execution_count": 73
        }
      ]
    },
    {
      "cell_type": "code",
      "metadata": {
        "id": "nV5UyxbJICG5"
      },
      "source": [
        "X= Reddit.drop(['score'], axis=1)\n",
        "y = Reddit['score']"
      ],
      "execution_count": null,
      "outputs": []
    },
    {
      "cell_type": "code",
      "metadata": {
        "id": "KMZqyiBLILGC"
      },
      "source": [
        "X_train, X_test, y_train, y_test = train_test_split(X, y, test_size=0.30, random_state=42)"
      ],
      "execution_count": null,
      "outputs": []
    },
    {
      "cell_type": "code",
      "metadata": {
        "colab": {
          "base_uri": "https://localhost:8080/"
        },
        "id": "zdf4DALmItCc",
        "outputId": "3c877f11-6c12-42e5-f3af-260c8a33b336"
      },
      "source": [
        "X_train.shape , X_test.shape"
      ],
      "execution_count": null,
      "outputs": [
        {
          "output_type": "execute_result",
          "data": {
            "text/plain": [
              "((5157, 4), (2211, 4))"
            ]
          },
          "metadata": {
            "tags": []
          },
          "execution_count": 76
        }
      ]
    },
    {
      "cell_type": "markdown",
      "metadata": {
        "id": "CiIti2QDFsn4"
      },
      "source": [
        "#Modelling"
      ]
    },
    {
      "cell_type": "code",
      "metadata": {
        "id": "07lBkNHRLB0v"
      },
      "source": [
        "from sklearn.metrics import mean_squared_error, r2_score, mean_absolute_error\n",
        "from sklearn import metrics\n",
        "from sklearn.model_selection import train_test_split\n",
        "from keras.preprocessing.text import Tokenizer\n",
        "from keras.preprocessing.sequence import pad_sequences\n",
        "\n",
        "from sklearn.linear_model import LinearRegression\n",
        "from sklearn.linear_model import ElasticNetCV\n",
        "from sklearn.tree import DecisionTreeRegressor\n",
        "from sklearn.ensemble import RandomForestRegressor\n",
        "from sklearn.ensemble import GradientBoostingRegressor\n",
        "from sklearn.ensemble import  AdaBoostRegressor\n",
        "import xgboost as xgb\n",
        "import lightgbm as lgbm\n",
        "\n",
        "import sklearn.model_selection as model_selection\n",
        "import pickle"
      ],
      "execution_count": null,
      "outputs": []
    },
    {
      "cell_type": "code",
      "metadata": {
        "id": "BaIvdr5j-ZrP"
      },
      "source": [
        "def model_diagnostics(model):\n",
        "    train_pred = model.predict(X_train)\n",
        "    r2 = r2_score(y_train, train_pred)\n",
        "    mse = mean_squared_error(y_train, train_pred)\n",
        "    mae = mean_absolute_error(y_train, train_pred)\n",
        "    print(f\"R-Sq of train data: {r2:.4}\")\n",
        "    print(f\"RMSE of train data: {np.sqrt(mse)}\")\n",
        "    print(f\"MAE  of train data: {mae}\")\n",
        "    print(\"*\"*60)\n",
        "    \n",
        "    y_predicted = model.predict(X_test)\n",
        "    r2 = r2_score(y_test, y_predicted)\n",
        "    mse = mean_squared_error(y_test, y_predicted)\n",
        "    mae = mean_absolute_error(y_test, y_predicted)\n",
        "    print(f\"R-Sq of test data: {r2:.4}\")\n",
        "    print(f\"RMSE of test data: {np.sqrt(mse)}\")\n",
        "    print(f\"MAE of test data: {mae}\")\n",
        "    \n",
        "    return [r2,np.sqrt(mse),mae]  \n",
        "\n",
        "\n",
        "model_metrics = dict()"
      ],
      "execution_count": null,
      "outputs": []
    },
    {
      "cell_type": "code",
      "metadata": {
        "id": "WRWNGH8aO_KU"
      },
      "source": [
        "#Linear regression model"
      ],
      "execution_count": null,
      "outputs": []
    },
    {
      "cell_type": "code",
      "metadata": {
        "colab": {
          "base_uri": "https://localhost:8080/"
        },
        "id": "QesInhGWOw0Z",
        "outputId": "c3b5b122-d748-4c29-9317-a5904920017a"
      },
      "source": [
        "linearregression = LinearRegression(copy_X=True, fit_intercept=True, n_jobs=1, normalize=False)\n",
        "linearregression.fit(X_train,y_train)\n",
        "model_metrics[\"Linear Regression\"] = model_diagnostics(linearregression)"
      ],
      "execution_count": 111,
      "outputs": [
        {
          "output_type": "stream",
          "text": [
            "R-Sq of train data: 0.1959\n",
            "RMSE of train data: 8048.541611782542\n",
            "MAE  of train data: 3537.7570195669286\n",
            "************************************************************\n",
            "R-Sq of test data: 0.2244\n",
            "RMSE of test data: 5911.94148100588\n",
            "MAE of test data: 3100.350127896482\n"
          ],
          "name": "stdout"
        }
      ]
    },
    {
      "cell_type": "code",
      "metadata": {
        "id": "WvCYV36KL2v8"
      },
      "source": [
        "#Decision Tree Model"
      ],
      "execution_count": null,
      "outputs": []
    },
    {
      "cell_type": "code",
      "metadata": {
        "colab": {
          "base_uri": "https://localhost:8080/"
        },
        "id": "lycVQuKNKhPp",
        "outputId": "5024a7ff-3c2b-4644-b7c6-0ba5e639c659"
      },
      "source": [
        "DecisionTree=model_selection.GridSearchCV(DecisionTreeRegressor(),param_grid=[{'max_depth':[2,3,4,5,6,7,None],\n",
        "                                                                        \"max_features\":[1,2,3,4],\n",
        "                                                                        \"min_samples_split\": np.arange(35,55,5),\n",
        "                                                                        \"min_samples_leaf\": np.arange(35,55,5)}],cv=10)\n",
        "DecisionTree.fit(X_train,y_train)"
      ],
      "execution_count": null,
      "outputs": [
        {
          "output_type": "execute_result",
          "data": {
            "text/plain": [
              "GridSearchCV(cv=10, error_score=nan,\n",
              "             estimator=DecisionTreeRegressor(ccp_alpha=0.0, criterion='mse',\n",
              "                                             max_depth=None, max_features=None,\n",
              "                                             max_leaf_nodes=None,\n",
              "                                             min_impurity_decrease=0.0,\n",
              "                                             min_impurity_split=None,\n",
              "                                             min_samples_leaf=1,\n",
              "                                             min_samples_split=2,\n",
              "                                             min_weight_fraction_leaf=0.0,\n",
              "                                             presort='deprecated',\n",
              "                                             random_state=None,\n",
              "                                             splitter='best'),\n",
              "             iid='deprecated', n_jobs=None,\n",
              "             param_grid=[{'max_depth': [2, 3, 4, 5, 6, 7, None],\n",
              "                          'max_features': [1, 2, 3, 4],\n",
              "                          'min_samples_leaf': array([35, 40, 45, 50]),\n",
              "                          'min_samples_split': array([35, 40, 45, 50])}],\n",
              "             pre_dispatch='2*n_jobs', refit=True, return_train_score=False,\n",
              "             scoring=None, verbose=0)"
            ]
          },
          "metadata": {
            "tags": []
          },
          "execution_count": 92
        }
      ]
    },
    {
      "cell_type": "code",
      "metadata": {
        "colab": {
          "base_uri": "https://localhost:8080/"
        },
        "id": "d4QyfutNKmgT",
        "outputId": "7f1959e0-5118-4534-e0ac-61b96d7bc048"
      },
      "source": [
        "DecisionTree.best_estimator_"
      ],
      "execution_count": null,
      "outputs": [
        {
          "output_type": "execute_result",
          "data": {
            "text/plain": [
              "DecisionTreeRegressor(ccp_alpha=0.0, criterion='mse', max_depth=7,\n",
              "                      max_features=3, max_leaf_nodes=None,\n",
              "                      min_impurity_decrease=0.0, min_impurity_split=None,\n",
              "                      min_samples_leaf=35, min_samples_split=45,\n",
              "                      min_weight_fraction_leaf=0.0, presort='deprecated',\n",
              "                      random_state=None, splitter='best')"
            ]
          },
          "metadata": {
            "tags": []
          },
          "execution_count": 93
        }
      ]
    },
    {
      "cell_type": "code",
      "metadata": {
        "colab": {
          "base_uri": "https://localhost:8080/"
        },
        "id": "x-smAxrYKNbb",
        "outputId": "bb03c3bd-9ac2-4020-fc10-1e5c77bfbf4f"
      },
      "source": [
        "DecisionTree = DecisionTreeRegressor(max_depth=6, max_features=4,min_samples_split=50, min_samples_leaf=40, random_state = 10)\n",
        "DecisionTree.fit(X_train, y_train)\n",
        "model_metrics[\"Decision Tree\"] = model_diagnostics(dt)"
      ],
      "execution_count": null,
      "outputs": [
        {
          "output_type": "stream",
          "text": [
            "R-Sq of train data: 0.492\n",
            "RMSE of train data: 6397.492242033351\n",
            "MAE  of train data: 2510.1414837355064\n",
            "************************************************************\n",
            "R-Sq of test data: 0.3283\n",
            "RMSE of test data: 5501.520883662116\n",
            "MAE of test data: 2380.352050686469\n"
          ],
          "name": "stdout"
        }
      ]
    },
    {
      "cell_type": "code",
      "metadata": {
        "id": "UfALYonffl2J"
      },
      "source": [
        "# Random forest model"
      ],
      "execution_count": null,
      "outputs": []
    },
    {
      "cell_type": "code",
      "metadata": {
        "id": "2Vds9S1tMoUE"
      },
      "source": [
        "RandomForest=model_selection.GridSearchCV(RandomForestRegressor(),param_grid=[{'min_samples_leaf': [1, 5,10],\n",
        "                                                                         'min_samples_split': [ 5, 10],\n",
        "                                                                         'n_estimators': [10,50,70]}])"
      ],
      "execution_count": 97,
      "outputs": []
    },
    {
      "cell_type": "code",
      "metadata": {
        "colab": {
          "base_uri": "https://localhost:8080/"
        },
        "id": "z-leVu2ZMyro",
        "outputId": "d0426e0e-db28-4e5e-e703-a86a3d48f386"
      },
      "source": [
        "RandomForest= RandomForestRegressor(n_jobs=-1, n_estimators=70, min_samples_leaf=10, random_state = 10)\n",
        "RandomForest.fit(X_train, y_train) \n",
        "model_metrics[\"Random Forest\"] = model_diagnostics(RandomForest)"
      ],
      "execution_count": 100,
      "outputs": [
        {
          "output_type": "stream",
          "text": [
            "R-Sq of train data: 0.5544\n",
            "RMSE of train data: 5991.725369658446\n",
            "MAE  of train data: 2332.863750174951\n",
            "************************************************************\n",
            "R-Sq of test data: 0.2913\n",
            "RMSE of test data: 5651.099731506158\n",
            "MAE of test data: 2389.9776499773234\n"
          ],
          "name": "stdout"
        }
      ]
    },
    {
      "cell_type": "code",
      "metadata": {
        "id": "rEf60y9qfqEn"
      },
      "source": [
        "# KNeighbors model"
      ],
      "execution_count": null,
      "outputs": []
    },
    {
      "cell_type": "code",
      "metadata": {
        "colab": {
          "base_uri": "https://localhost:8080/"
        },
        "id": "xAVngntSlQug",
        "outputId": "cb83cd20-83c2-44af-9f94-9a88a31836ee"
      },
      "source": [
        "from sklearn.neighbors import KNeighborsRegressor\n",
        "from sklearn.metrics import mean_absolute_error\n",
        "KNN_model = KNeighborsRegressor()\n",
        "KNN_model.fit(X_train, y_train)\n",
        "model_metrics[\"Random Forest\"] = model_diagnostics(RandomForest)"
      ],
      "execution_count": 112,
      "outputs": [
        {
          "output_type": "stream",
          "text": [
            "R-Sq of train data: 0.5544\n",
            "RMSE of train data: 5991.725369658446\n",
            "MAE  of train data: 2332.863750174951\n",
            "************************************************************\n",
            "R-Sq of test data: 0.2913\n",
            "RMSE of test data: 5651.099731506158\n",
            "MAE of test data: 2389.977649977323\n"
          ],
          "name": "stdout"
        }
      ]
    },
    {
      "cell_type": "code",
      "metadata": {
        "id": "4ilolELaOLyt"
      },
      "source": [
        "#XG Boost Regressor"
      ],
      "execution_count": null,
      "outputs": []
    },
    {
      "cell_type": "code",
      "metadata": {
        "id": "ipbj3YsUN_uj"
      },
      "source": [
        "XGBoostRegressor= model_selection.GridSearchCV(xgb.XGBRegressor(),param_grid=[{'nthread':[4],\n",
        "                                                                  'learning_rate': [.03, 0.05, .07], \n",
        "                                                                  'max_depth': [5, 6, 7],\n",
        "                                                                  'subsample': [0.7],\n",
        "                                                                  'colsample_bytree': [0.7],\n",
        "                                                                  'n_estimators': [500]}],cv = 2,n_jobs = 5,verbose=True)"
      ],
      "execution_count": 107,
      "outputs": []
    },
    {
      "cell_type": "code",
      "metadata": {
        "colab": {
          "base_uri": "https://localhost:8080/"
        },
        "id": "vwa7ztSOOOEc",
        "outputId": "fd89a2ff-6ae0-4743-f92a-4fc3dc5db784"
      },
      "source": [
        "XGBoostRegressor = xgb.XGBRegressor(colsample_bytree= 0.7, learning_rate= 0.03, max_depth= 5, n_estimators= 500,\n",
        "                        nthread= 4, subsample= 0.7)\n",
        "XGBoostRegressor.fit(X_train, y_train)\n",
        "model_metrics[\"XG Boost Regression\"] = model_diagnostics(XGBoostRegressor)"
      ],
      "execution_count": 108,
      "outputs": [
        {
          "output_type": "stream",
          "text": [
            "[16:04:49] WARNING: /workspace/src/objective/regression_obj.cu:152: reg:linear is now deprecated in favor of reg:squarederror.\n",
            "R-Sq of train data: 0.7185\n",
            "RMSE of train data: 4762.034516642034\n",
            "MAE  of train data: 2145.288576480606\n",
            "************************************************************\n",
            "R-Sq of test data: 0.2805\n",
            "RMSE of test data: 5694.034067261686\n",
            "MAE of test data: 2432.9798271488894\n"
          ],
          "name": "stdout"
        }
      ]
    },
    {
      "cell_type": "code",
      "metadata": {
        "id": "vA4OIUfqOjK_"
      },
      "source": [
        "from xgboost import Booster\n",
        "XGBoostRegressor.save_model('XGBoostRegressor.booster')"
      ],
      "execution_count": 109,
      "outputs": []
    }
  ]
}